{
 "cells": [
  {
   "cell_type": "code",
   "execution_count": 1,
   "id": "33a48e0e",
   "metadata": {},
   "outputs": [],
   "source": [
    "import scanpy as sc\n",
    "import pandas as pd\n",
    "import lightning"
   ]
  },
  {
   "cell_type": "code",
   "execution_count": 2,
   "id": "f40fbea4",
   "metadata": {},
   "outputs": [],
   "source": [
    "import torch"
   ]
  },
  {
   "cell_type": "code",
   "execution_count": 2,
   "id": "5a8f5a32",
   "metadata": {},
   "outputs": [],
   "source": [
    "import os\n",
    "import torch\n",
    "from torch import nn\n",
    "import torch.nn.functional as F\n",
    "from torch.utils.data import DataLoader\n",
    "import lightning as L\n",
    "import sklearn.model_selection"
   ]
  },
  {
   "cell_type": "code",
   "execution_count": 4,
   "id": "9ef739e6",
   "metadata": {},
   "outputs": [],
   "source": [
    "def init_weights(m):\n",
    "    if isinstance(m, nn.Linear):\n",
    "        torch.nn.init.kaiming_normal_(m.weight)\n",
    "\n",
    "class Cell_Encoder(nn.Module):\n",
    "    def __init__(self, input_dim, hidden_dim):\n",
    "        super().__init__()\n",
    "        self.l1 = nn.Sequential(nn.Linear(input_dim, hidden_dim), \n",
    "                                nn.ReLU(), \n",
    "                                nn.Linear(hidden_dim, hidden_dim),\n",
    "                                nn.ReLU(), \n",
    "                                nn.Linear(hidden_dim, hidden_dim),\n",
    "                               )\n",
    "\n",
    "    def forward(self, x):\n",
    "        return self.l1(x)\n",
    "    \n",
    "class Gene_Encoder(nn.Module):\n",
    "    \n",
    "    def __init__(self, input_dim, hidden_dim):\n",
    "        super().__init__()\n",
    "        self.l1 = nn.Sequential(nn.Linear(input_dim, hidden_dim), \n",
    "                                nn.ReLU(), \n",
    "                                nn.Linear(hidden_dim, hidden_dim),\n",
    "                                nn.ReLU(), \n",
    "                                nn.Linear(hidden_dim, hidden_dim),\n",
    "                               )\n",
    "\n",
    "    def forward(self, x):\n",
    "        return self.l1(x)"
   ]
  },
  {
   "cell_type": "code",
   "execution_count": 5,
   "id": "e1d1e427",
   "metadata": {},
   "outputs": [],
   "source": [
    "def filter_nonzero(x):\n",
    "    return F.softplus(x)"
   ]
  },
  {
   "cell_type": "code",
   "execution_count": 6,
   "id": "4eab3ba5",
   "metadata": {},
   "outputs": [],
   "source": [
    "class LitAutoEncoder(L.LightningModule):\n",
    "    def __init__(self, encoder1, encoder2, gene_emb, train_index, eta=1e-4, nonneg=False):\n",
    "        super().__init__()\n",
    "        self.cellencoder = encoder1\n",
    "#         self.cellencoder.apply(init_weights)\n",
    "        \n",
    "        self.geneencoder = encoder2 \n",
    "#         self.geneencoder.apply(init_weights)\n",
    "        self.gene_emb = gene_emb\n",
    "        self.train_index = train_index\n",
    "        self.eta = eta\n",
    "        \n",
    "        if nonneg:\n",
    "            self.id = nn.Softplus()\n",
    "        else:\n",
    "            self.id = nn.Identity()\n",
    "            \n",
    "        self.droprate = 0.55\n",
    "\n",
    "    def training_step(self, batch, batch_idx):\n",
    "        # training_step defines the train loop.\n",
    "        x, y = batch\n",
    "\n",
    "        batch = x.shape[0]\n",
    "        ngenes = x.shape[1]\n",
    "        droprate = self.droprate * 1.1\n",
    "        # we model the sampling zeros (dropping 30% of the reads)\n",
    "        res = torch.poisson((x * (self.droprate / 2))).int()\n",
    "        # we model the technical zeros (dropping 50% of the genes)\n",
    "        notdrop = (\n",
    "            torch.rand((batch, ngenes), device=x.device) >= (self.droprate / 2)\n",
    "        ).int()\n",
    "        mat = (x - res) * notdrop\n",
    "        out_data = torch.maximum(\n",
    "            mat, torch.zeros((1, 1), device=x.device, dtype=torch.int)\n",
    "        )\n",
    "    \n",
    "        z_cell = self.cellencoder(out_data)\n",
    "        z_gene = self.geneencoder(self.gene_emb)\n",
    "        \n",
    "        out_final = torch.matmul(z_cell, z_gene.T)\n",
    "        out_final = self.id(out_final)\n",
    "        \n",
    "        loss = F.mse_loss(out_final[:,self.train_index], y)\n",
    "        return loss\n",
    "    \n",
    "    def validation_step(self, batch, batch_idx):\n",
    "        # this is the validation loop\n",
    "        x, y = batch\n",
    "\n",
    "        batch = x.shape[0]\n",
    "        ngenes = x.shape[1]\n",
    "        droprate = self.droprate * 1.1\n",
    "        # we model the sampling zeros (dropping 30% of the reads)\n",
    "        res = torch.poisson((x * (self.droprate / 2))).int()\n",
    "        # we model the technical zeros (dropping 50% of the genes)\n",
    "        notdrop = (\n",
    "            torch.rand((batch, ngenes), device=x.device) >= (self.droprate / 2)\n",
    "        ).int()\n",
    "        mat = (x - res) * notdrop\n",
    "        out_data = torch.maximum(\n",
    "            mat, torch.zeros((1, 1), device=x.device, dtype=torch.int)\n",
    "        )\n",
    "        \n",
    "        z_cell = self.cellencoder(out_data)\n",
    "        z_gene = self.geneencoder(self.gene_emb)\n",
    "        \n",
    "        out_final = torch.matmul(z_cell, z_gene.T)\n",
    "        out_final = self.id(out_final)\n",
    "        \n",
    "        val_loss = F.mse_loss(out_final[:,self.train_index], y)\n",
    "        self.log('val_loss', val_loss, on_epoch=True, on_step=False)\n",
    "        return val_loss\n",
    "\n",
    "        \n",
    "    def test_step(self, batch, batch_idx):\n",
    "        # this is the test loop\n",
    "        x, y = batch\n",
    "\n",
    "        out_data = x\n",
    "        z_cell = self.cellencoder(out_data)\n",
    "        z_gene = self.geneencoder(self.gene_emb)\n",
    "        \n",
    "        out_final = torch.matmul(z_cell, z_gene.T)\n",
    "        out_final = self.id(out_final)\n",
    "        \n",
    "        test_loss = F.mse_loss(out_final[:,self.train_index], y)\n",
    "        self.log('test_loss', test_loss)\n",
    "        return test_loss\n",
    "        \n",
    "    def forward(self, x):\n",
    "        z_cell = self.cellencoder(x)\n",
    "        z_gene = self.geneencoder(self.gene_emb)\n",
    "        \n",
    "        out_final = torch.matmul(z_cell, z_gene.T)\n",
    "        out_final = self.id(out_final)\n",
    "        \n",
    "        return out_final\n",
    "\n",
    "    def configure_optimizers(self):\n",
    "        optimizer = torch.optim.Adam(self.parameters(), lr=self.eta)\n",
    "        return optimizer\n",
    "    "
   ]
  },
  {
   "cell_type": "code",
   "execution_count": null,
   "id": "d45f1944",
   "metadata": {},
   "outputs": [],
   "source": []
  },
  {
   "cell_type": "code",
   "execution_count": null,
   "id": "c4cdbcec",
   "metadata": {},
   "outputs": [],
   "source": [
    "adata = sc.read_h5ad(\"/home/tl688/pitl688/ref_free_imp/adata_stimage_hest.h5ad\")"
   ]
  },
  {
   "cell_type": "code",
   "execution_count": null,
   "id": "8f207d0f",
   "metadata": {},
   "outputs": [],
   "source": []
  },
  {
   "cell_type": "code",
   "execution_count": null,
   "id": "31051e08",
   "metadata": {},
   "outputs": [],
   "source": [
    "adata.obs['batch'].value_counts()"
   ]
  },
  {
   "cell_type": "code",
   "execution_count": null,
   "id": "33b17851",
   "metadata": {},
   "outputs": [],
   "source": [
    "adata"
   ]
  },
  {
   "cell_type": "code",
   "execution_count": null,
   "id": "584c759d",
   "metadata": {},
   "outputs": [],
   "source": [
    "# Convert the expression matrix to a pandas DataFrame\n",
    "# If X is a sparse matrix, convert to a dense array first\n",
    "import scipy.sparse as sp\n",
    "if sp.issparse(adata.X):\n",
    "    expr_df = pd.DataFrame(adata.X.toarray(), index=adata.obs_names, columns=adata.var_names)\n",
    "else:\n",
    "    expr_df = pd.DataFrame(adata.X, index=adata.obs_names, columns=adata.var_names)\n",
    "\n",
    "# Identify duplicated rows\n",
    "# keep='first' ensures we mark duplicates after the first occurrence\n",
    "duplicated_mask = expr_df.duplicated(keep='first')\n",
    "\n",
    "# Subset the AnnData to keep only the non-duplicated rows\n",
    "adata_no_duplicates = adata[~duplicated_mask, :].copy()"
   ]
  },
  {
   "cell_type": "code",
   "execution_count": null,
   "id": "0f255ce4",
   "metadata": {},
   "outputs": [],
   "source": [
    "adata_no_duplicates.obs['batch']"
   ]
  },
  {
   "cell_type": "code",
   "execution_count": null,
   "id": "4344515e",
   "metadata": {},
   "outputs": [],
   "source": []
  },
  {
   "cell_type": "code",
   "execution_count": null,
   "id": "5809e5d7",
   "metadata": {},
   "outputs": [],
   "source": []
  },
  {
   "cell_type": "code",
   "execution_count": null,
   "id": "88174bdf",
   "metadata": {},
   "outputs": [],
   "source": []
  },
  {
   "cell_type": "code",
   "execution_count": 8,
   "id": "867cd670",
   "metadata": {},
   "outputs": [],
   "source": [
    "import numpy as np"
   ]
  },
  {
   "cell_type": "code",
   "execution_count": null,
   "id": "e4d43e19",
   "metadata": {},
   "outputs": [],
   "source": [
    "adata.X"
   ]
  },
  {
   "cell_type": "code",
   "execution_count": 10,
   "id": "15caa8de",
   "metadata": {},
   "outputs": [],
   "source": [
    "# adata_dense = adata.X.toarray()"
   ]
  },
  {
   "cell_type": "code",
   "execution_count": null,
   "id": "a37d22c1",
   "metadata": {},
   "outputs": [],
   "source": [
    "sc.pp.filter_cells(adata, min_genes=100)\n",
    "sc.pp.filter_genes(adata, min_cells=3)\n"
   ]
  },
  {
   "cell_type": "code",
   "execution_count": 12,
   "id": "fadd0adc",
   "metadata": {},
   "outputs": [],
   "source": [
    "sc.pp.normalize_total(adata)\n",
    "sc.pp.log1p(adata)"
   ]
  },
  {
   "cell_type": "code",
   "execution_count": 13,
   "id": "60a9ae03",
   "metadata": {},
   "outputs": [],
   "source": [
    "a = 1"
   ]
  },
  {
   "cell_type": "code",
   "execution_count": null,
   "id": "0927a934",
   "metadata": {},
   "outputs": [],
   "source": [
    "adata.X"
   ]
  },
  {
   "cell_type": "code",
   "execution_count": 20,
   "id": "7032803e",
   "metadata": {},
   "outputs": [],
   "source": [
    "adata_emb = sc.read_h5ad(\"/home/tl688/project/seq2cells_data/spatial_data/adata_spatial_logcounts_waitimpute.h5ad\")"
   ]
  },
  {
   "cell_type": "code",
   "execution_count": 22,
   "id": "f4d3a9a1",
   "metadata": {},
   "outputs": [],
   "source": [
    "df_id = adata_emb.obs "
   ]
  },
  {
   "cell_type": "code",
   "execution_count": null,
   "id": "a0c4d0be",
   "metadata": {},
   "outputs": [],
   "source": []
  },
  {
   "cell_type": "code",
   "execution_count": 23,
   "id": "c9f5e28f",
   "metadata": {},
   "outputs": [],
   "source": [
    "df_id = df_id[df_id['add_id'].isin(adata.var_names)]"
   ]
  },
  {
   "cell_type": "code",
   "execution_count": 20,
   "id": "dc427af8",
   "metadata": {},
   "outputs": [],
   "source": [
    "adata_train =  adata"
   ]
  },
  {
   "cell_type": "code",
   "execution_count": 21,
   "id": "7cd70e5c",
   "metadata": {},
   "outputs": [],
   "source": [
    "train_index = [int(i) for i in df_id.index]"
   ]
  },
  {
   "cell_type": "code",
   "execution_count": null,
   "id": "0d12dd8b",
   "metadata": {},
   "outputs": [],
   "source": [
    "adata_train"
   ]
  },
  {
   "cell_type": "code",
   "execution_count": 23,
   "id": "83cd92ff",
   "metadata": {
    "scrolled": true
   },
   "outputs": [],
   "source": [
    "adata_train = adata_train[:,df_id['add_id'].values]"
   ]
  },
  {
   "cell_type": "code",
   "execution_count": 24,
   "id": "eaed7314",
   "metadata": {},
   "outputs": [],
   "source": [
    "# adata_train.X = adata_train.layers['logcounts']"
   ]
  },
  {
   "cell_type": "code",
   "execution_count": 25,
   "id": "0c82a269",
   "metadata": {},
   "outputs": [],
   "source": [
    "# adata_train.X = adata_train.X.toarray()"
   ]
  },
  {
   "cell_type": "code",
   "execution_count": null,
   "id": "56b26494",
   "metadata": {},
   "outputs": [],
   "source": [
    "adata_train.shape"
   ]
  },
  {
   "cell_type": "code",
   "execution_count": 27,
   "id": "efef2adf",
   "metadata": {},
   "outputs": [],
   "source": [
    "import sklearn.model_selection\n",
    "import numpy as np\n",
    "import random\n",
    "np.random.seed(2024)\n",
    "random.seed(2024)"
   ]
  },
  {
   "cell_type": "code",
   "execution_count": null,
   "id": "2226dac9",
   "metadata": {
    "scrolled": true
   },
   "outputs": [],
   "source": [
    "sorted(set(adata_train.obs['batch']))"
   ]
  },
  {
   "cell_type": "code",
   "execution_count": 29,
   "id": "5a4f1991",
   "metadata": {},
   "outputs": [],
   "source": [
    "train_name, test_name = sklearn.model_selection.train_test_split(sorted(set(adata_train.obs['batch'])))"
   ]
  },
  {
   "cell_type": "code",
   "execution_count": 30,
   "id": "8871ca17",
   "metadata": {},
   "outputs": [],
   "source": [
    "valid_name = test_name"
   ]
  },
  {
   "cell_type": "code",
   "execution_count": 27,
   "id": "f23ae1d6",
   "metadata": {},
   "outputs": [],
   "source": [
    "cell_enc = Cell_Encoder(input_dim=21648, hidden_dim=64)"
   ]
  },
  {
   "cell_type": "code",
   "execution_count": 28,
   "id": "c197d43e",
   "metadata": {},
   "outputs": [],
   "source": [
    "gene_enc = Gene_Encoder(input_dim=3072,hidden_dim=64)"
   ]
  },
  {
   "cell_type": "code",
   "execution_count": 29,
   "id": "29860d07",
   "metadata": {},
   "outputs": [],
   "source": [
    "model = LitAutoEncoder(encoder1=cell_enc, encoder2=gene_enc, eta=1e-4, gene_emb=torch.FloatTensor(adata_emb.obsm['seq_embedding']).cuda(), train_index=train_index, nonneg=True)"
   ]
  },
  {
   "cell_type": "code",
   "execution_count": null,
   "id": "1f551ef5",
   "metadata": {},
   "outputs": [],
   "source": [
    "model"
   ]
  },
  {
   "cell_type": "code",
   "execution_count": 35,
   "id": "ee6f681b",
   "metadata": {},
   "outputs": [],
   "source": [
    "X_tr, X_val, X_test, y_tr, y_val, y_test = torch.FloatTensor(adata_train[adata_train.obs['batch'].isin(train_name)].X.toarray()),torch.FloatTensor(adata_train[adata_train.obs['batch'].isin(valid_name)].X.toarray()), torch.FloatTensor(adata_train[adata_train.obs['batch'].isin(test_name)].X.toarray()),torch.FloatTensor(adata_train[adata_train.obs['batch'].isin(train_name)].X.toarray()),torch.FloatTensor(adata_train[adata_train.obs['batch'].isin(valid_name)].X.toarray()),torch.FloatTensor(adata_train[adata_train.obs['batch'].isin(test_name)].X.toarray())"
   ]
  },
  {
   "cell_type": "code",
   "execution_count": 36,
   "id": "6216459b",
   "metadata": {},
   "outputs": [],
   "source": [
    "train_dataset = torch.utils.data.TensorDataset(X_tr, y_tr)\n",
    "valid_dataset = torch.utils.data.TensorDataset(X_val, y_val)\n",
    "test_dataset = torch.utils.data.TensorDataset(X_test, y_test)"
   ]
  },
  {
   "cell_type": "code",
   "execution_count": 37,
   "id": "35b41521",
   "metadata": {},
   "outputs": [],
   "source": [
    "from torch.utils.data import DataLoader\n",
    "\n",
    "train_loader = DataLoader(train_dataset, batch_size=512, num_workers=1)\n",
    "valid_loader = DataLoader(valid_dataset, batch_size=512, num_workers=1)\n"
   ]
  },
  {
   "cell_type": "code",
   "execution_count": null,
   "id": "66691e28",
   "metadata": {
    "scrolled": true
   },
   "outputs": [],
   "source": [
    "# train with both splits\n",
    "from lightning.pytorch.callbacks.early_stopping import EarlyStopping\n",
    "trainer = L.Trainer(callbacks=[EarlyStopping(monitor=\"val_loss\", mode=\"min\", patience=100)], max_epochs=1000)\n",
    "trainer.fit(model, train_loader, valid_loader, )"
   ]
  },
  {
   "cell_type": "code",
   "execution_count": null,
   "id": "e82244ce",
   "metadata": {
    "scrolled": true
   },
   "outputs": [],
   "source": [
    "best_checkpoint = trainer.checkpoint_callback.best_model_path\n",
    "print(best_checkpoint)\n",
    "model = LitAutoEncoder.load_from_checkpoint(best_checkpoint, encoder1=cell_enc, encoder2=gene_enc, eta=1e-4, gene_emb=torch.FloatTensor(adata_emb.obsm['seq_embedding']).cuda(), train_index=train_index)"
   ]
  },
  {
   "cell_type": "code",
   "execution_count": null,
   "id": "86e14bd4",
   "metadata": {},
   "outputs": [],
   "source": [
    "model"
   ]
  },
  {
   "cell_type": "code",
   "execution_count": 47,
   "id": "95316e6f",
   "metadata": {},
   "outputs": [],
   "source": [
    "adata_train.write_h5ad(\"/home/tl688/pitl688/ref_free_imp/adata_fulllist_imputation.h5ad\")"
   ]
  },
  {
   "cell_type": "code",
   "execution_count": 10,
   "id": "4bf5a172",
   "metadata": {},
   "outputs": [],
   "source": [
    "#visium train, rest techniques for testing"
   ]
  },
  {
   "cell_type": "code",
   "execution_count": null,
   "id": "ee77cc88",
   "metadata": {},
   "outputs": [],
   "source": []
  },
  {
   "cell_type": "code",
   "execution_count": null,
   "id": "400b0b5c",
   "metadata": {},
   "outputs": [],
   "source": []
  },
  {
   "cell_type": "code",
   "execution_count": null,
   "id": "35b4e83a",
   "metadata": {},
   "outputs": [],
   "source": []
  },
  {
   "cell_type": "code",
   "execution_count": null,
   "id": "7597e6b3",
   "metadata": {},
   "outputs": [],
   "source": []
  },
  {
   "cell_type": "code",
   "execution_count": null,
   "id": "dcf977d7",
   "metadata": {},
   "outputs": [],
   "source": []
  },
  {
   "cell_type": "code",
   "execution_count": null,
   "id": "80c24cc4",
   "metadata": {},
   "outputs": [],
   "source": [
    "best_checkpoint"
   ]
  },
  {
   "cell_type": "code",
   "execution_count": 91,
   "id": "256cfa5b",
   "metadata": {},
   "outputs": [],
   "source": [
    "test_loader = DataLoader(test_dataset, batch_size=512, num_workers=1)"
   ]
  },
  {
   "cell_type": "code",
   "execution_count": null,
   "id": "4e2b7fc0",
   "metadata": {},
   "outputs": [],
   "source": [
    "trainer.test(model,test_loader)"
   ]
  },
  {
   "cell_type": "code",
   "execution_count": null,
   "id": "38b2c958",
   "metadata": {},
   "outputs": [],
   "source": []
  },
  {
   "cell_type": "code",
   "execution_count": 81,
   "id": "c61c7dd8",
   "metadata": {},
   "outputs": [],
   "source": [
    "import numpy as np\n",
    "import scanpy as sc"
   ]
  },
  {
   "cell_type": "code",
   "execution_count": 82,
   "id": "7f021caa",
   "metadata": {},
   "outputs": [],
   "source": [
    "# import pickle\n",
    "# with open(f\"/home/tl688/pitl688/ref_free_imp/adata_list_stimage1k.pickle\", 'rb') as fp:\n",
    "#     seq_list = pickle.load(fp)\n",
    "\n",
    "# len(seq_list)\n",
    "\n",
    "# seq_list_new = []\n",
    "\n",
    "# for i in seq_list:\n",
    "#     i.var_names = [item.upper() for item in i.var_names]\n",
    "#     seq_list_new.append(i)\n",
    "\n",
    "# adata = sc.concat(seq_list_new, join='outer')\n",
    "\n",
    "adata = sc.read_h5ad(\"./cancer_type_allresult.h5ad\")"
   ]
  },
  {
   "cell_type": "code",
   "execution_count": 83,
   "id": "479b998e",
   "metadata": {},
   "outputs": [],
   "source": [
    "# np.max(adata.X)"
   ]
  },
  {
   "cell_type": "code",
   "execution_count": 84,
   "id": "f2afa7a6",
   "metadata": {
    "scrolled": true
   },
   "outputs": [],
   "source": [
    "# for i in adata.obs['batch'].unique():\n",
    "#     adata_new = adata[adata.obs['batch'] == i]\n",
    "#     print(adata_new.obs['annotation'].unique())"
   ]
  },
  {
   "cell_type": "code",
   "execution_count": 85,
   "id": "8c2427f1",
   "metadata": {},
   "outputs": [],
   "source": [
    "# adata_new.obs"
   ]
  },
  {
   "cell_type": "code",
   "execution_count": null,
   "id": "cee99989",
   "metadata": {
    "scrolled": true
   },
   "outputs": [],
   "source": [
    "for i in adata.obs['annotation'].unique():\n",
    "    print(i)"
   ]
  },
  {
   "cell_type": "code",
   "execution_count": 87,
   "id": "847c12a8",
   "metadata": {},
   "outputs": [],
   "source": [
    "correct_map = {\"invasive cancer\":\"invasive cancer\",\n",
    "\"breast glands\":\"breast glands\",\n",
    "\"connective tissue\":\"connective tissue\",\n",
    "\"undetermined\":\"undetermined\",\n",
    "\"adipose tissue\":\"Adipose tissue\",\n",
    "\"immune infiltrate\":\"immune infiltrate\",\n",
    "\"cancer in situ\":\"cancer in situ\",\n",
    "\"NO_TLS\":\"NO_TLS\",\n",
    "\"TLS\":\"TLS\",\n",
    "\"nan\":\"undetermined\",\n",
    "\"T_agg\":\"T_agg\",\n",
    "\"Adipose tissue\":\"Adipose tissue\",\n",
    "\"Tumor stroma with inflammation\":\"Tumor stroma with inflammation\",\n",
    "\"Tumor cells\":\"Tumor cells\",\n",
    "\"Tumor stroma fibrous\":\"Tumor stroma fibrous\",\n",
    "\"Artifacts\":\"Artifacts\",\n",
    "\"Tumor Cells\":\"Tumor cells\",\n",
    "\"Tumor Stroma\":\"Tumor Stroma\",\n",
    "\"Fibrosis\":\"Fibrosis\",\n",
    "\"High TILs Stroma\":\"High TILs Stroma\",\n",
    "\"Tumour Cells\":\"Tumor cells\",\n",
    "\"Normal Epithelium\":\"Normal Epithelium\",\n",
    "\"Lymphocytes\":\"Lymphocytes\",\n",
    "\"Vascular\":\"Vascular\",\n",
    "\"Peripheral Nerve\":\"Peripheral Nerve\",\n",
    "\"Lymphoid stroma\":\"Lymphoid stroma\",\n",
    "\"Fibrous stroma\":\"Fibrous stroma\",\n",
    "\"In situ Carcinoma*\":\"In situ Carcinoma\",\n",
    "\"Tumor cells ?\":\"Tumor cells ?\",\n",
    "\"In Situ Carcinoma\":\"In situ Carcinoma\",\n",
    "\"Hyperplasia\":\"Hyperplasia\",\n",
    "\"Tumor cells - Spindle Cells\":\"Tumor cells - Spindle Cells\",\n",
    "\"Tumour cells\":\"Tumor cells\",\n",
    "\"Fibrosis (peritumoral)\":\"Fibrosis (peritumoral)\",\n",
    "\"Artefacts\":\"Artifacts\",\n",
    "\"Tumour Stroma\":\"Tumor Stroma\",\n",
    "\"Endothelial\":\"Endothelial\",\n",
    "\"Necrosis\":\"Necrosis\",\n",
    "\"Tumor\":\"Tumor cells\",\n",
    "\"Non Tumor\":\"Non Tumor\",\n",
    "\"Tumor_edge_5\":\"Tumor_edge_5\",\n",
    "\"IDC_4\":\"IDC_4\",\n",
    "\"Healthy_1\":\"Healthy_1\",\n",
    "\"IDC_3\":\"IDC_3\",\n",
    "\"IDC_2\":\"IDC_2\",\n",
    "\"Tumor_edge_3\":\"Tumor_edge_3\",\n",
    "\"DCIS/LCIS_3\":\"DCIS/LCIS_3\",\n",
    "\"Tumor_edge_2\":\"Tumor_edge_2\",\n",
    "\"DCIS/LCIS_5\":\"DCIS/LCIS_5\",\n",
    "\"IDC_6\":\"IDC_6\",\n",
    "\"Tumor_edge_6\":\"Tumor_edge_6\",\n",
    "\"Healthy_2\":\"Healthy_2\",\n",
    "\"IDC_5\":\"IDC_5\",\n",
    "\"DCIS/LCIS_4\":\"DCIS/LCIS_4\",\n",
    "\"IDC_7\":\"IDC_7\",\n",
    "\"Tumor_edge_1\":\"Tumor_edge_1\",\n",
    "\"DCIS/LCIS_1\":\"DCIS/LCIS_1\",\n",
    "\"DCIS/LCIS_2\":\"DCIS/LCIS_2\",\n",
    "\"Tumor_edge_4\":\"Tumor_edge_4\",\n",
    "\"IDC_1\":\"IDC_1\",\n",
    "\"Stroma\":\"Stroma\",\n",
    "\"GG1\":\"GG1\",\n",
    "\"Benign\":\"Benign\",\n",
    "\"Exclude\":\"Exclude\",\n",
    "\"Vessel\":\"Vessel\",\n",
    "\"GG4 Cribriform\":\"GG4 Cribriform\",\n",
    "\"GG2\":\"GG2\",\n",
    "\"Chronic inflammation\":\"Chronic inflammation\",\n",
    "\"Fat\":\"Fat\",\n",
    "\"Nerve\":\"Nerve\",\n",
    "\"GG4\":\"GG4\",\n",
    "\"PIN\":\"PIN\",\n",
    "\"Inflammation\":\"Inflammation\",\n",
    "\"Transition_State\":\"Transition_State\",\n",
    "\"Benign*\":\"Benign\",\n",
    "    'Pal::GPi': 'Pal::GPi',\n",
    "    'MOB::Gl_1': 'MOB::Gl_1',\n",
    "    'SS::L2/3': 'SS::L2/3',\n",
    "    'MOB::Gr': 'MOB::Gr',\n",
    "    'Pal::MA': 'Pal::MA',\n",
    "    'ORB::L2/3': 'ORB::L2/3',\n",
    "    'AOE': 'AOE',\n",
    "    'OT::PoL': 'OT::PoL',\n",
    "    'CPu': 'CPu',\n",
    "    'AON::L1_1': 'AON::L1_1',\n",
    "    'CC': 'CC',\n",
    "    'AOB::Gr': 'AOB::Gr',\n",
    "    'Pal::NDB': 'Pal::NDB',\n",
    "    'AON::L2': 'AON::L2',\n",
    "    'PIR': 'PIR',\n",
    "    'MO::L5': 'MO::L5',\n",
    "    'St': 'St',\n",
    "    'SS::L1': 'SS::L1',\n",
    "    'SLu': 'SLu',\n",
    "    'Fim': 'Fim',\n",
    "    'AcbC': 'AcbC',\n",
    "    'MOB::Opl': 'MOB::Opl',\n",
    "    'Cl': 'Cl',\n",
    "    'Pal::Sl': 'Pal::Sl',\n",
    "    'SS::L6': 'SS::L6',\n",
    "    'Ft': 'Ft',\n",
    "    'MO::L2/3': 'MO::L2/3',\n",
    "    'AOB::Gl': 'AOB::Gl',\n",
    "    'MOB::lpl': 'MOB::lpl',\n",
    "    'MO::L1': 'MO::L1',\n",
    "    'TH::RT': 'TH::RT',\n",
    "    'SS::L5': 'SS::L5',\n",
    "    'Io': 'Io',\n",
    "    'FRP::L1': 'FRP::L1',\n",
    "    'HY::LPO': 'HY::LPO',\n",
    "    'AcbSh': 'AcbSh',\n",
    "    'ORB::L5': 'ORB::L5',\n",
    "    'OT::Ml': 'OT::Ml',\n",
    "    'FRP::L2/3': 'FRP::L2/3',\n",
    "    'MO::L6': 'MO::L6',\n",
    "    'MOB::Gl_2': 'MOB::Gl_2',\n",
    "    'AOB::Ml': 'AOB::Ml',\n",
    "    'ORB::L1': 'ORB::L1',\n",
    "    'En': 'En',\n",
    "    'Or': 'Or',\n",
    "    'ORB::L6': 'ORB::L6',\n",
    "    'AON::L1_2': 'AON::L1_2',\n",
    "    'OT::Pl': 'OT::Pl',\n",
    "    'Py': 'Py',\n",
    "    'LV': 'LV',\n",
    "    'MOB::MI': 'MOB::MI',\n",
    "    'Not_annotated': \"undetermined\"\n",
    "}"
   ]
  },
  {
   "cell_type": "code",
   "execution_count": 88,
   "id": "61c30054",
   "metadata": {},
   "outputs": [],
   "source": [
    "adata.obs['annotation'] = [correct_map[i] for i in adata.obs['annotation']]"
   ]
  },
  {
   "cell_type": "code",
   "execution_count": 93,
   "id": "c069a243",
   "metadata": {},
   "outputs": [],
   "source": [
    "filled_arr = np.where(np.isnan(adata.X), 0, adata.X)\n",
    "adata.X = filled_arr"
   ]
  },
  {
   "cell_type": "code",
   "execution_count": null,
   "id": "4b70dec3",
   "metadata": {},
   "outputs": [],
   "source": [
    "np.max(adata.X)"
   ]
  },
  {
   "cell_type": "code",
   "execution_count": 95,
   "id": "d9be92cd",
   "metadata": {},
   "outputs": [],
   "source": [
    "# sc.pp.filter_cells(adata, min_genes=100)\n",
    "# sc.pp.filter_genes(adata, min_cells=3)"
   ]
  },
  {
   "cell_type": "code",
   "execution_count": 96,
   "id": "6c744487",
   "metadata": {},
   "outputs": [],
   "source": [
    "# adata_train.X"
   ]
  },
  {
   "cell_type": "code",
   "execution_count": 97,
   "id": "2c708638",
   "metadata": {},
   "outputs": [],
   "source": [
    "adata_train_wait = adata_train[0,:]"
   ]
  },
  {
   "cell_type": "code",
   "execution_count": 98,
   "id": "d5ee8912",
   "metadata": {},
   "outputs": [],
   "source": [
    "adata.obsm['spatial'] = adata.obsm['spatial'].values[:,0:2]"
   ]
  },
  {
   "cell_type": "code",
   "execution_count": 99,
   "id": "d4307627",
   "metadata": {},
   "outputs": [],
   "source": [
    "# adata = adata[:,adata_train.var_names]"
   ]
  },
  {
   "cell_type": "code",
   "execution_count": 101,
   "id": "bb89d215",
   "metadata": {},
   "outputs": [],
   "source": [
    "adata_merge = sc.concat([adata_train_wait, adata], join='outer', fill_value=0)"
   ]
  },
  {
   "cell_type": "code",
   "execution_count": null,
   "id": "98b115b7",
   "metadata": {},
   "outputs": [],
   "source": [
    "np.max(adata_merge.X)"
   ]
  },
  {
   "cell_type": "code",
   "execution_count": 103,
   "id": "4723a868",
   "metadata": {},
   "outputs": [],
   "source": [
    "a =1"
   ]
  },
  {
   "cell_type": "code",
   "execution_count": 104,
   "id": "e59b7c47",
   "metadata": {},
   "outputs": [],
   "source": [
    "adata_merge = adata_merge[1:,:]"
   ]
  },
  {
   "cell_type": "code",
   "execution_count": 105,
   "id": "3a2ef965",
   "metadata": {},
   "outputs": [],
   "source": [
    "# sc.pp.subsample(adata_merge, fraction=0.1)"
   ]
  },
  {
   "cell_type": "code",
   "execution_count": 106,
   "id": "34614a1b",
   "metadata": {},
   "outputs": [],
   "source": [
    "# del adata_train"
   ]
  },
  {
   "cell_type": "code",
   "execution_count": null,
   "id": "dfab48da",
   "metadata": {},
   "outputs": [],
   "source": []
  },
  {
   "cell_type": "code",
   "execution_count": null,
   "id": "c9a8c20c",
   "metadata": {},
   "outputs": [],
   "source": [
    "np.max(adata_merge.X)"
   ]
  },
  {
   "cell_type": "code",
   "execution_count": null,
   "id": "e5a29325",
   "metadata": {},
   "outputs": [],
   "source": []
  },
  {
   "cell_type": "code",
   "execution_count": 110,
   "id": "7065195d",
   "metadata": {},
   "outputs": [],
   "source": [
    "# adata_merge.X = adata_merge.X.toarray()"
   ]
  },
  {
   "cell_type": "code",
   "execution_count": null,
   "id": "04bff0c8",
   "metadata": {},
   "outputs": [],
   "source": []
  },
  {
   "cell_type": "code",
   "execution_count": 111,
   "id": "71dda4ec",
   "metadata": {},
   "outputs": [],
   "source": [
    "# filled_arr = np.where(np.isnan(adata_merge.X), 0, adata_merge.X)"
   ]
  },
  {
   "cell_type": "code",
   "execution_count": 112,
   "id": "a429365f",
   "metadata": {},
   "outputs": [],
   "source": [
    "# adata_merge.X = filled_arr.copy()"
   ]
  },
  {
   "cell_type": "code",
   "execution_count": 113,
   "id": "79457d6d",
   "metadata": {},
   "outputs": [],
   "source": [
    "adata_merge = adata_merge[:,adata_train_wait.var_names]"
   ]
  },
  {
   "cell_type": "code",
   "execution_count": null,
   "id": "748f41af",
   "metadata": {},
   "outputs": [],
   "source": [
    "np.max(adata_merge.X)"
   ]
  },
  {
   "cell_type": "code",
   "execution_count": 115,
   "id": "0734299f",
   "metadata": {},
   "outputs": [],
   "source": [
    "# adata_merge.X = adata_merge.X.toarray()\n",
    "# filled_arr = np.where(np.isnan(adata_merge.X), 0, adata_merge.X)\n",
    "# adata_merge.X = filled_arr.copy()"
   ]
  },
  {
   "cell_type": "code",
   "execution_count": 116,
   "id": "83c6edac",
   "metadata": {},
   "outputs": [],
   "source": [
    "a = 1"
   ]
  },
  {
   "cell_type": "code",
   "execution_count": 120,
   "id": "e9c7be54",
   "metadata": {},
   "outputs": [],
   "source": [
    "adata_merge.write_h5ad(\"/home/tl688/scratch/cancer_type_training.h5ad\")"
   ]
  },
  {
   "cell_type": "code",
   "execution_count": 8,
   "id": "44f8a467",
   "metadata": {},
   "outputs": [],
   "source": [
    "adata_merge = sc.read_h5ad(\"/home/tl688/scratch/cancer_type_training.h5ad\")"
   ]
  },
  {
   "cell_type": "code",
   "execution_count": null,
   "id": "d6aea98a",
   "metadata": {},
   "outputs": [],
   "source": [
    "adata = sc.read_h5ad(\"/home/tl688/pitl688/test_image/visium_all.h5ad\")\n",
    "sc.pp.subsample(adata, fraction=0.1, random_state=2024)"
   ]
  },
  {
   "cell_type": "code",
   "execution_count": null,
   "id": "327aca21",
   "metadata": {},
   "outputs": [],
   "source": [
    "adata_merge"
   ]
  },
  {
   "cell_type": "code",
   "execution_count": 14,
   "id": "d66d9558",
   "metadata": {},
   "outputs": [],
   "source": [
    "adata_merge = adata[:,adata_merge.var_names]"
   ]
  },
  {
   "cell_type": "code",
   "execution_count": null,
   "id": "16f8a69b",
   "metadata": {},
   "outputs": [],
   "source": []
  },
  {
   "cell_type": "code",
   "execution_count": 15,
   "id": "12684ec5",
   "metadata": {},
   "outputs": [],
   "source": [
    "best_checkpoint = \"/gpfs/radev/project/ying_rex/tl688/large_scale_imputation/lightning_logs/version_117404/checkpoints/epoch=814-step=364305.ckpt\""
   ]
  },
  {
   "cell_type": "code",
   "execution_count": null,
   "id": "6fe6772e",
   "metadata": {
    "scrolled": true
   },
   "outputs": [],
   "source": [
    "# best_checkpoint = \"/gpfs/radev/project/ying_rex/tl688/large_scale_imputation/lightning_logs/version_117404/checkpoints/epoch=999-step=447000.ckpt\"\n",
    "best_checkpoint = \"/gpfs/radev/project/ying_rex/tl688/large_scale_imputation/lightning_logs/version_pretrain_almostlargedata/checkpoints/epoch=127-step=57216.ckpt\"\n",
    "print(best_checkpoint)\n",
    "train_index = [0]\n",
    "model = LitAutoEncoder.load_from_checkpoint(best_checkpoint, encoder1=cell_enc, encoder2=gene_enc, eta=1e-4, gene_emb=torch.FloatTensor(adata_emb.obsm['seq_embedding']).cuda(), train_index=train_index)\n",
    "\n",
    "model = model.cuda()\n",
    "with torch.no_grad():\n",
    "    imputed1 = model.forward(torch.FloatTensor(adata_merge.X.toarray()).cuda()).cpu()"
   ]
  },
  {
   "cell_type": "code",
   "execution_count": null,
   "id": "0d4377b4",
   "metadata": {},
   "outputs": [],
   "source": []
  },
  {
   "cell_type": "code",
   "execution_count": 32,
   "id": "1adfd497",
   "metadata": {},
   "outputs": [],
   "source": [
    "adata_imp = sc.AnnData(imputed1.numpy())\n",
    "adata_imp.obs = adata_merge.obs.copy()\n",
    "adata_imp.var = adata_emb.obs.copy()\n",
    "adata_imp.var_names = adata_imp.var['add_id'].values"
   ]
  },
  {
   "cell_type": "code",
   "execution_count": null,
   "id": "58277d95",
   "metadata": {},
   "outputs": [],
   "source": [
    "adata_imp.obs.batch"
   ]
  },
  {
   "cell_type": "code",
   "execution_count": 35,
   "id": "693a9032",
   "metadata": {},
   "outputs": [],
   "source": [
    "adata_imp.write_h5ad(\"/home/tl688/scratch/adata_imp_largestdata_diseasepred.h5ad\")"
   ]
  },
  {
   "cell_type": "code",
   "execution_count": null,
   "id": "afc47acd",
   "metadata": {
    "scrolled": true
   },
   "outputs": [],
   "source": [
    "for batch in adata_imp.obs['batch'].unique():\n",
    "    adata_new = adata_imp[adata_imp.obs.batch == batch]\n",
    "\n",
    "    sc.tl.pca(adata_new)\n",
    "    sc.pp.neighbors(adata_new)\n",
    "\n",
    "    sc.tl.umap(adata_new)\n",
    "\n",
    "    sc.pl.umap(adata_new, color='annotation')"
   ]
  },
  {
   "cell_type": "code",
   "execution_count": null,
   "id": "0fad8e77",
   "metadata": {},
   "outputs": [],
   "source": [
    "sc.pp.normalize_total(adata)\n",
    "sc.pp.log1p(adata)"
   ]
  },
  {
   "cell_type": "code",
   "execution_count": 155,
   "id": "e291e35b",
   "metadata": {},
   "outputs": [],
   "source": [
    "# adata_merge.obs['batch']"
   ]
  },
  {
   "cell_type": "code",
   "execution_count": null,
   "id": "75f13636",
   "metadata": {
    "scrolled": true
   },
   "outputs": [],
   "source": [
    "nmi_s = []\n",
    "ari_s = []\n",
    "for batch in adata_merge.obs['batch'].unique():\n",
    "    adata_new = adata[adata.obs.batch == batch]\n",
    "    \n",
    "    sc.pp.highly_variable_genes(adata_new, n_top_genes=2000)\n",
    "    adata_new = adata_new[:,adata_new.var['highly_variable']]\n",
    "\n",
    "    sc.tl.pca(adata_new)\n",
    "    sc.pp.neighbors(adata_new)\n",
    "    \n",
    "    nmi = []\n",
    "    ari = []\n",
    "    for i in np.linspace(0,2,21)[1:]:\n",
    "        sc.tl.leiden(adata_new, resolution = i)\n",
    "        nmi.append(sklearn.metrics.normalized_mutual_info_score(adata_new.obs.leiden, adata_new.obs.annotation))\n",
    "        ari.append(sklearn.metrics.adjusted_rand_score(adata_new.obs.leiden, adata_new.obs.annotation))\n",
    "    nmi_s.append(max(nmi))\n",
    "    ari_s.append(max(ari))\n",
    "\n",
    "    sc.tl.umap(adata_new)\n",
    "\n",
    "    sc.pl.umap(adata_new, color='annotation')"
   ]
  },
  {
   "cell_type": "code",
   "execution_count": null,
   "id": "51b64147",
   "metadata": {
    "scrolled": true
   },
   "outputs": [],
   "source": [
    "nmi_s"
   ]
  },
  {
   "cell_type": "code",
   "execution_count": 158,
   "id": "f645ea20",
   "metadata": {},
   "outputs": [],
   "source": [
    "# adata_imp.X"
   ]
  },
  {
   "cell_type": "code",
   "execution_count": null,
   "id": "633ce14c",
   "metadata": {},
   "outputs": [],
   "source": []
  },
  {
   "cell_type": "code",
   "execution_count": null,
   "id": "0b04671d",
   "metadata": {
    "scrolled": true
   },
   "outputs": [],
   "source": [
    "nmi_l = []\n",
    "ari_l = []\n",
    "for batch in adata_imp.obs['batch'].unique():\n",
    "    adata_new = adata_imp[adata_imp.obs.batch == batch]\n",
    "    \n",
    "    sc.pp.highly_variable_genes(adata_new, n_top_genes=2000)\n",
    "    adata_new = adata_new[:,adata_new.var['highly_variable']]\n",
    "\n",
    "    sc.tl.pca(adata_new)\n",
    "    sc.pp.neighbors(adata_new)\n",
    "    \n",
    "    nmi = []\n",
    "    ari = []\n",
    "    for i in np.linspace(0,2,21)[1:]:\n",
    "        sc.tl.leiden(adata_new, resolution = i)\n",
    "        nmi.append(sklearn.metrics.normalized_mutual_info_score(adata_new.obs.leiden, adata_new.obs.annotation))\n",
    "        ari.append(sklearn.metrics.adjusted_rand_score(adata_new.obs.leiden, adata_new.obs.annotation))\n",
    "    nmi_l.append(max(nmi))\n",
    "    ari_l.append(max(ari))\n",
    "\n",
    "    sc.tl.umap(adata_new)\n",
    "\n",
    "    sc.pl.umap(adata_new, color='annotation')"
   ]
  },
  {
   "cell_type": "code",
   "execution_count": null,
   "id": "2fe79805",
   "metadata": {
    "scrolled": true
   },
   "outputs": [],
   "source": [
    "nmi_l"
   ]
  },
  {
   "cell_type": "code",
   "execution_count": null,
   "id": "8903235d",
   "metadata": {
    "scrolled": true
   },
   "outputs": [],
   "source": [
    "ari_l"
   ]
  },
  {
   "cell_type": "code",
   "execution_count": 159,
   "id": "463b7dc6",
   "metadata": {},
   "outputs": [],
   "source": [
    "import matplotlib.pyplot as plt"
   ]
  },
  {
   "cell_type": "code",
   "execution_count": null,
   "id": "168daa8a",
   "metadata": {},
   "outputs": [],
   "source": [
    "plt.scatter(nmi_l, nmi_s)"
   ]
  },
  {
   "cell_type": "code",
   "execution_count": null,
   "id": "2826a448",
   "metadata": {},
   "outputs": [],
   "source": [
    "import scipy.stats\n",
    "scipy.stats.pearsonr(nmi_l, nmi_s)"
   ]
  },
  {
   "cell_type": "code",
   "execution_count": null,
   "id": "4f4bb755",
   "metadata": {},
   "outputs": [],
   "source": []
  },
  {
   "cell_type": "code",
   "execution_count": null,
   "id": "9d159a0f",
   "metadata": {},
   "outputs": [],
   "source": [
    "plt.scatter(ari_l, ari_s)"
   ]
  },
  {
   "cell_type": "code",
   "execution_count": null,
   "id": "c0b70491",
   "metadata": {},
   "outputs": [],
   "source": [
    "import scipy.stats\n",
    "scipy.stats.pearsonr(ari_l, ari_s)"
   ]
  },
  {
   "cell_type": "code",
   "execution_count": 165,
   "id": "b261ccf8",
   "metadata": {},
   "outputs": [],
   "source": [
    "label_l = []\n",
    "\n",
    "for batch in adata_imp.obs['batch'].unique():\n",
    "    adata_new = adata_imp[adata_imp.obs.batch == batch]\n",
    "    label_l.append(len(adata_new.obs['annotation'].unique()))"
   ]
  },
  {
   "cell_type": "code",
   "execution_count": 166,
   "id": "eceb68f1",
   "metadata": {},
   "outputs": [],
   "source": [
    "label_l = np.array(label_l)"
   ]
  },
  {
   "cell_type": "code",
   "execution_count": 167,
   "id": "0ef5f5b7",
   "metadata": {},
   "outputs": [],
   "source": [
    "import scipy.stats"
   ]
  },
  {
   "cell_type": "code",
   "execution_count": 170,
   "id": "2a9515ea",
   "metadata": {},
   "outputs": [],
   "source": [
    "diff = np.array(ari_l) - np.array(ari_s)"
   ]
  },
  {
   "cell_type": "code",
   "execution_count": null,
   "id": "4d6cc820",
   "metadata": {},
   "outputs": [],
   "source": [
    "scipy.stats.pearsonr(diff,label_l)"
   ]
  },
  {
   "cell_type": "code",
   "execution_count": null,
   "id": "df84d2fe",
   "metadata": {},
   "outputs": [],
   "source": [
    "plt.scatter(diff,label_l)\n",
    "plt.xlabel('win score')\n",
    "plt.ylabel('cluster number')"
   ]
  },
  {
   "cell_type": "code",
   "execution_count": 173,
   "id": "30c90b28",
   "metadata": {},
   "outputs": [],
   "source": [
    "diff_ari = np.array(ari_l) - np.array(ari_s)"
   ]
  },
  {
   "cell_type": "code",
   "execution_count": null,
   "id": "89fd6336",
   "metadata": {},
   "outputs": [],
   "source": [
    "plt.scatter(diff_ari, label_l)\n",
    "plt.xlabel('win score')\n",
    "plt.ylabel('cluster number')"
   ]
  },
  {
   "cell_type": "code",
   "execution_count": null,
   "id": "d3e3bc01",
   "metadata": {},
   "outputs": [],
   "source": [
    "scipy.stats.pearsonr(diff_ari,label_l)"
   ]
  },
  {
   "cell_type": "code",
   "execution_count": null,
   "id": "00f5fee8",
   "metadata": {},
   "outputs": [],
   "source": []
  },
  {
   "cell_type": "code",
   "execution_count": null,
   "id": "f5a2bdee",
   "metadata": {},
   "outputs": [],
   "source": []
  },
  {
   "cell_type": "code",
   "execution_count": null,
   "id": "dde5d480",
   "metadata": {},
   "outputs": [],
   "source": []
  },
  {
   "cell_type": "code",
   "execution_count": null,
   "id": "533f4788",
   "metadata": {},
   "outputs": [],
   "source": []
  },
  {
   "cell_type": "code",
   "execution_count": null,
   "id": "01818338",
   "metadata": {},
   "outputs": [],
   "source": []
  },
  {
   "cell_type": "code",
   "execution_count": null,
   "id": "310a51e8",
   "metadata": {
    "scrolled": true
   },
   "outputs": [],
   "source": [
    "best_checkpoint = \"/gpfs/radev/project/ying_rex/tl688/large_scale_imputation/lightning_logs/version_pretrain_almostlargedata/checkpoints/epoch=127-step=57216.ckpt\"\n",
    "print(best_checkpoint)\n",
    "\n",
    "cell_enc = Cell_Encoder(input_dim=21648, hidden_dim=64)\n",
    "\n",
    "gene_enc = Gene_Encoder(input_dim=3072,hidden_dim=64)\n",
    "\n",
    "model = LitAutoEncoder.load_from_checkpoint(best_checkpoint, encoder1=cell_enc, encoder2=gene_enc, eta=1e-4, gene_emb=torch.FloatTensor(adata_emb.obsm['seq_embedding']).cuda(), train_index=train_index)\n",
    "\n",
    "model = model.cuda()\n",
    "with torch.no_grad():\n",
    "    imputed1 = model.forward(torch.FloatTensor(adata_merge.X).cuda()).cpu()"
   ]
  },
  {
   "cell_type": "code",
   "execution_count": null,
   "id": "fe0c0238",
   "metadata": {},
   "outputs": [],
   "source": []
  },
  {
   "cell_type": "code",
   "execution_count": 95,
   "id": "f82b3a8e",
   "metadata": {},
   "outputs": [],
   "source": [
    "adata_imp = sc.AnnData(imputed1.numpy())\n",
    "adata_imp.obs = adata_merge.obs.copy()\n",
    "adata_imp.var = adata_emb.obs.copy()\n",
    "adata_imp.var_names = adata_imp.var['add_id'].values"
   ]
  },
  {
   "cell_type": "code",
   "execution_count": null,
   "id": "70b47007",
   "metadata": {},
   "outputs": [],
   "source": [
    "adata_imp.obs.batch"
   ]
  },
  {
   "cell_type": "code",
   "execution_count": null,
   "id": "6d571c97",
   "metadata": {},
   "outputs": [],
   "source": [
    "for batch in adata_imp.obs['batch'].unique():\n",
    "    adata_new = adata_imp[adata_imp.obs.batch == batch]\n",
    "\n",
    "    sc.tl.pca(adata_new)\n",
    "    sc.pp.neighbors(adata_new)\n",
    "\n",
    "    sc.tl.umap(adata_new)\n",
    "\n",
    "    sc.pl.umap(adata_new, color='annotation')"
   ]
  },
  {
   "cell_type": "code",
   "execution_count": null,
   "id": "a4c9429a",
   "metadata": {},
   "outputs": [],
   "source": []
  },
  {
   "cell_type": "code",
   "execution_count": 1,
   "id": "a667dc77",
   "metadata": {},
   "outputs": [],
   "source": [
    "nmi_s = [0.08585809108189037,\n",
    " 0.06232096556125869,\n",
    " 0.07456601307055569,\n",
    " 0.02915012991486388,\n",
    " 0.08362670552242965,\n",
    " 0.10026078191689969,\n",
    " 0.05457748498183513,\n",
    " 0.028880175610608367,\n",
    " 0.0,\n",
    " 0.05844357280406492,\n",
    " 0.20331220767770605,\n",
    " 0.01449385174593068,\n",
    " 0.008799301976226356,\n",
    " 0.11757295070024754,\n",
    " 0.014088200088330533,\n",
    " 0.017581566651454484,\n",
    " 0.13288964017796612,\n",
    " 0.030494452504848068,\n",
    " 0.0,\n",
    " 0.08207977234123992,\n",
    " 0.17684938216420826,\n",
    " 0.04556948630210969,\n",
    " 0.039477668434467296,\n",
    " 0.18573516503770066,\n",
    " 0.17044956952679668,\n",
    " 0.05513297855513959,\n",
    " 0.15119272139316414,\n",
    " 0.2443987243283582,\n",
    " 0.2644354184971032,\n",
    " 0.23442516454342563,\n",
    " 0.1977834719544222,\n",
    " 0.10535063580187067,\n",
    " 0.15532358533906598,\n",
    " 0.2756224410057031,\n",
    " 0.13475631841313784,\n",
    " 0.24051930520897719,\n",
    " 0.06595811118620239,\n",
    " 0.116261902894733,\n",
    " 0.4305981482651703,\n",
    " 0.6093296377939322,\n",
    " 0.2602406655667357,\n",
    " 0.3583389459627304,\n",
    " 0.34617777667672656,\n",
    " 0.3165318080132729,\n",
    " 0.2726459787450713,\n",
    " 0.3355548291640934,\n",
    " 0.2694374545233615,\n",
    " 0.6825186984230193]\n",
    "\n",
    "nmi_l = [0.10309309158558037,\n",
    " 0.03167295144777077,\n",
    " 0.08896677465164816,\n",
    " 0.022372995571474204,\n",
    " 0.13537242812319109,\n",
    " 0.0994968115369422,\n",
    " 0.04401958199389832,\n",
    " 0.01986336851467381,\n",
    " 0.0,\n",
    " 0.052528683384559065,\n",
    " 0.14293297280280834,\n",
    " 0.011399072277495688,\n",
    " 0.00849366374288696,\n",
    " 0.06666712982057355,\n",
    " 0.015582133000180251,\n",
    " 0.01919443347775918,\n",
    " 0.13925113791673766,\n",
    " 0.020795413825667863,\n",
    " 0.0,\n",
    " 0.07044239374635096,\n",
    " 0.18260340151269136,\n",
    " 0.025088083554627594,\n",
    " 0.04343836816974321,\n",
    " 0.09357711783666878,\n",
    " 0.22790831340731546,\n",
    " 0.13483908784698068,\n",
    " 0.20532075178353543,\n",
    " 0.3683327430128713,\n",
    " 0.19405304748986668,\n",
    " 0.24796775924315062,\n",
    " 0.2006933538120348,\n",
    " 0.12361098932983694,\n",
    " 0.2004860040525278,\n",
    " 0.3501681197740687,\n",
    " 0.07862564384210861,\n",
    " 0.2865826587850417,\n",
    " 0.06039518892488261,\n",
    " 0.09813439598129726,\n",
    " 0.5830041837066104,\n",
    " 0.3843539747251409,\n",
    " 0.272936738583149,\n",
    " 0.38449108877637106,\n",
    " 0.28908657514896946,\n",
    " 0.3464975885078202,\n",
    " 0.3282284455925776,\n",
    " 0.35214034921286663,\n",
    " 0.30693244217028914,\n",
    " 0.4697875785541327]"
   ]
  },
  {
   "cell_type": "code",
   "execution_count": 9,
   "id": "2b818bf7",
   "metadata": {},
   "outputs": [],
   "source": [
    "# adata_imp = sc.read_h5ad(\"/home/tl688/scratch/adata_imp_largestdata_diseasepred.h5ad\")"
   ]
  },
  {
   "cell_type": "code",
   "execution_count": 12,
   "id": "30f8fdc2",
   "metadata": {},
   "outputs": [],
   "source": [
    "# adata_imp\n",
    "import numpy as np"
   ]
  },
  {
   "cell_type": "code",
   "execution_count": 13,
   "id": "ba8181e7",
   "metadata": {},
   "outputs": [],
   "source": [
    "label_l = []\n",
    "\n",
    "for batch in adata_merge.obs['batch'].unique():\n",
    "    adata_new = adata_merge[adata_merge.obs.batch == batch]\n",
    "    label_l.append(len(adata_new.obs['annotation'].unique()))\n",
    "\n",
    "label_l = np.array(label_l)"
   ]
  },
  {
   "cell_type": "code",
   "execution_count": 16,
   "id": "9253af40",
   "metadata": {},
   "outputs": [],
   "source": [
    "import matplotlib.pyplot as plt"
   ]
  },
  {
   "cell_type": "code",
   "execution_count": 17,
   "id": "64b276c2",
   "metadata": {},
   "outputs": [],
   "source": [
    "diff_nmi = np.array(nmi_l) - np.array(nmi_s)"
   ]
  },
  {
   "cell_type": "code",
   "execution_count": null,
   "id": "8f57a2b0",
   "metadata": {},
   "outputs": [],
   "source": [
    "plt.scatter(diff_nmi, label_l)\n",
    "plt.xlabel('win score')\n",
    "plt.ylabel('cluster number')"
   ]
  },
  {
   "cell_type": "code",
   "execution_count": null,
   "id": "824d24e6",
   "metadata": {},
   "outputs": [],
   "source": [
    "import scipy.stats\n",
    "scipy.stats.pearsonr(diff_nmi,label_l)"
   ]
  },
  {
   "cell_type": "code",
   "execution_count": null,
   "id": "8ebf843b",
   "metadata": {},
   "outputs": [],
   "source": []
  }
 ],
 "metadata": {
  "kernelspec": {
   "display_name": "Python 3 (ipykernel)",
   "language": "python",
   "name": "python3"
  },
  "language_info": {
   "codemirror_mode": {
    "name": "ipython",
    "version": 3
   },
   "file_extension": ".py",
   "mimetype": "text/x-python",
   "name": "python",
   "nbconvert_exporter": "python",
   "pygments_lexer": "ipython3",
   "version": "3.11.0"
  }
 },
 "nbformat": 4,
 "nbformat_minor": 5
}
