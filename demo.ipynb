{
 "cells": [
  {
   "cell_type": "code",
   "execution_count": 1,
   "id": "33a48e0e",
   "metadata": {},
   "outputs": [],
   "source": [
    "import scanpy as sc\n",
    "import pandas as pd\n",
    "import lightning"
   ]
  },
  {
   "cell_type": "code",
   "execution_count": 2,
   "id": "f40fbea4",
   "metadata": {},
   "outputs": [],
   "source": [
    "import torch"
   ]
  },
  {
   "cell_type": "code",
   "execution_count": 3,
   "id": "5a8f5a32",
   "metadata": {},
   "outputs": [],
   "source": [
    "import os\n",
    "import torch\n",
    "from torch import nn\n",
    "import torch.nn.functional as F\n",
    "from torch.utils.data import DataLoader\n",
    "import lightning as L\n",
    "import sklearn.model_selection"
   ]
  },
  {
   "cell_type": "code",
   "execution_count": 4,
   "id": "9ef739e6",
   "metadata": {},
   "outputs": [],
   "source": [
    "def init_weights(m):\n",
    "    if isinstance(m, nn.Linear):\n",
    "        torch.nn.init.kaiming_normal_(m.weight)\n",
    "\n",
    "class Cell_Encoder(nn.Module):\n",
    "    def __init__(self, input_dim, hidden_dim):\n",
    "        super().__init__()\n",
    "        self.l1 = nn.Sequential(nn.Linear(input_dim, hidden_dim), \n",
    "                                nn.ReLU(), \n",
    "                                nn.Linear(hidden_dim, hidden_dim),\n",
    "                                nn.ReLU(), \n",
    "                                nn.Linear(hidden_dim, hidden_dim),\n",
    "                               )\n",
    "\n",
    "    def forward(self, x):\n",
    "        return self.l1(x)\n",
    "    \n",
    "class Gene_Encoder(nn.Module):\n",
    "    \n",
    "    def __init__(self, input_dim, hidden_dim):\n",
    "        super().__init__()\n",
    "        self.l1 = nn.Sequential(nn.Linear(input_dim, hidden_dim), \n",
    "                                nn.ReLU(), \n",
    "                                nn.Linear(hidden_dim, hidden_dim),\n",
    "                                nn.ReLU(), \n",
    "                                nn.Linear(hidden_dim, hidden_dim),\n",
    "                               )\n",
    "\n",
    "    def forward(self, x):\n",
    "        return self.l1(x)"
   ]
  },
  {
   "cell_type": "code",
   "execution_count": 5,
   "id": "e1d1e427",
   "metadata": {},
   "outputs": [],
   "source": [
    "def filter_nonzero(x):\n",
    "    return F.softplus(x)"
   ]
  },
  {
   "cell_type": "code",
   "execution_count": 6,
   "id": "4eab3ba5",
   "metadata": {},
   "outputs": [],
   "source": [
    "class LitAutoEncoder(L.LightningModule):\n",
    "    def __init__(self, encoder1, encoder2, gene_emb, train_index, eta=1e-4, nonneg=False):\n",
    "        super().__init__()\n",
    "        self.cellencoder = encoder1\n",
    "        self.geneencoder = encoder2 \n",
    "        self.gene_emb = gene_emb\n",
    "        self.train_index = train_index\n",
    "        self.eta = eta\n",
    "        \n",
    "        if nonneg:\n",
    "            self.id = nn.Softplus()\n",
    "        else:\n",
    "            self.id = nn.Identity()\n",
    "\n",
    "    def training_step(self, batch, batch_idx):\n",
    "        # training_step defines the train loop.\n",
    "        x, y = batch\n",
    "        z_cell = self.cellencoder(x)\n",
    "        z_gene = self.geneencoder(self.gene_emb)\n",
    "        \n",
    "        out_final = torch.matmul(z_cell, z_gene.T)\n",
    "        out_final = self.id(out_final)\n",
    "        \n",
    "        loss = F.mse_loss(out_final[:,self.train_index], y)\n",
    "        return loss\n",
    "    \n",
    "    def validation_step(self, batch, batch_idx):\n",
    "        # this is the validation loop\n",
    "        x, y = batch\n",
    "        z_cell = self.cellencoder(x)\n",
    "        z_gene = self.geneencoder(self.gene_emb)\n",
    "        \n",
    "        out_final = torch.matmul(z_cell, z_gene.T)\n",
    "        out_final = self.id(out_final)\n",
    "        \n",
    "        val_loss = F.mse_loss(out_final[:,self.train_index], y)\n",
    "        self.log('val_loss', val_loss, on_epoch=True, on_step=False)\n",
    "        return val_loss\n",
    "\n",
    "        \n",
    "    def test_step(self, batch, batch_idx):\n",
    "        # this is the test loop\n",
    "        x, y = batch\n",
    "        z_cell = self.cellencoder(x)\n",
    "        z_gene = self.geneencoder(self.gene_emb)\n",
    "        \n",
    "        out_final = torch.matmul(z_cell, z_gene.T)\n",
    "        out_final = self.id(out_final)\n",
    "        \n",
    "        test_loss = F.mse_loss(out_final[:,self.train_index], y)\n",
    "        self.log('test_loss', test_loss)\n",
    "        return test_loss\n",
    "        \n",
    "    def forward(self, x):\n",
    "        z_cell = self.cellencoder(x)\n",
    "        z_gene = self.geneencoder(self.gene_emb)\n",
    "        \n",
    "        out_final = torch.matmul(z_cell, z_gene.T)\n",
    "        out_final = self.id(out_final)\n",
    "        \n",
    "        return out_final\n",
    "\n",
    "    def configure_optimizers(self):\n",
    "        optimizer = torch.optim.Adam(self.parameters(), lr=self.eta)\n",
    "        return optimizer"
   ]
  },
  {
   "cell_type": "code",
   "execution_count": 7,
   "id": "41d8f827",
   "metadata": {},
   "outputs": [],
   "source": [
    "adata = sc.read_h5ad(\"/home/tl688/pitl688/seqfish_data.h5ad\")"
   ]
  },
  {
   "cell_type": "code",
   "execution_count": 9,
   "id": "a37d22c1",
   "metadata": {},
   "outputs": [],
   "source": [
    "adata = adata.T.copy()"
   ]
  },
  {
   "cell_type": "code",
   "execution_count": null,
   "id": "7032803e",
   "metadata": {},
   "outputs": [],
   "source": [
    "adata_emb = sc.read_h5ad(\"./adata_mouse_embedding_enformer.h5ad\")"
   ]
  },
  {
   "cell_type": "code",
   "execution_count": null,
   "id": "fe5ae7d4",
   "metadata": {},
   "outputs": [],
   "source": [
    "adata_emb.obs_names = [i for i in range(len(adata_emb.obs_names))]"
   ]
  },
  {
   "cell_type": "code",
   "execution_count": 13,
   "id": "f4d3a9a1",
   "metadata": {},
   "outputs": [],
   "source": [
    "df_id = adata_emb.obs "
   ]
  },
  {
   "cell_type": "code",
   "execution_count": 14,
   "id": "c9f5e28f",
   "metadata": {},
   "outputs": [],
   "source": [
    "df_id = df_id[df_id['add_id'].isin(adata.obs_names)]"
   ]
  },
  {
   "cell_type": "code",
   "execution_count": 16,
   "id": "dc427af8",
   "metadata": {},
   "outputs": [],
   "source": [
    "adata_train =  adata.T.copy()"
   ]
  },
  {
   "cell_type": "code",
   "execution_count": 17,
   "id": "7cd70e5c",
   "metadata": {},
   "outputs": [],
   "source": [
    "train_index = [int(i) for i in df_id.index]"
   ]
  },
  {
   "cell_type": "code",
   "execution_count": null,
   "id": "0d12dd8b",
   "metadata": {},
   "outputs": [],
   "source": []
  },
  {
   "cell_type": "code",
   "execution_count": 19,
   "id": "83cd92ff",
   "metadata": {
    "scrolled": true
   },
   "outputs": [],
   "source": [
    "adata_train = adata_train[:,df_id['add_id'].values]"
   ]
  },
  {
   "cell_type": "code",
   "execution_count": 20,
   "id": "eaed7314",
   "metadata": {},
   "outputs": [],
   "source": [
    "adata_train.X = adata_train.layers['normalized']"
   ]
  },
  {
   "cell_type": "code",
   "execution_count": 21,
   "id": "0c82a269",
   "metadata": {},
   "outputs": [],
   "source": [
    "adata_train.X = adata_train.X.toarray()"
   ]
  },
  {
   "cell_type": "code",
   "execution_count": 99,
   "id": "efef2adf",
   "metadata": {},
   "outputs": [],
   "source": [
    "import sklearn.model_selection\n",
    "import numpy as np\n",
    "import random\n",
    "np.random.seed(2024)\n",
    "random.seed(2024)"
   ]
  },
  {
   "cell_type": "code",
   "execution_count": 100,
   "id": "5a4f1991",
   "metadata": {},
   "outputs": [],
   "source": [
    "train_name, test_name = sklearn.model_selection.train_test_split(adata_train.obs_names)"
   ]
  },
  {
   "cell_type": "code",
   "execution_count": 101,
   "id": "8871ca17",
   "metadata": {},
   "outputs": [],
   "source": [
    "train_name, valid_name = sklearn.model_selection.train_test_split(train_name)"
   ]
  },
  {
   "cell_type": "code",
   "execution_count": 102,
   "id": "f23ae1d6",
   "metadata": {},
   "outputs": [],
   "source": [
    "cell_enc = Cell_Encoder(input_dim=adata_train.X.shape[1], hidden_dim=64)"
   ]
  },
  {
   "cell_type": "code",
   "execution_count": 103,
   "id": "c197d43e",
   "metadata": {},
   "outputs": [],
   "source": [
    "gene_enc = Gene_Encoder(input_dim=3072,hidden_dim=64)"
   ]
  },
  {
   "cell_type": "code",
   "execution_count": 105,
   "id": "29860d07",
   "metadata": {},
   "outputs": [],
   "source": [
    "model = LitAutoEncoder(encoder1=cell_enc, encoder2=gene_enc, eta=1e-4, gene_emb=torch.FloatTensor(adata_emb.X).cuda(), train_index=train_index)"
   ]
  },
  {
   "cell_type": "code",
   "execution_count": 107,
   "id": "ee6f681b",
   "metadata": {},
   "outputs": [],
   "source": [
    "X_tr, X_val, X_test, y_tr, y_val, y_test =torch.FloatTensor(adata_train[train_name].X.toarray()),torch.FloatTensor(adata_train[valid_name].X.toarray()),torch.FloatTensor(adata_train[test_name].X.toarray()),torch.FloatTensor(adata_train[train_name].X.toarray()), torch.FloatTensor(adata_train[valid_name].X.toarray()), torch.FloatTensor(adata_train[test_name].X.toarray())"
   ]
  },
  {
   "cell_type": "code",
   "execution_count": 108,
   "id": "6216459b",
   "metadata": {},
   "outputs": [],
   "source": [
    "train_dataset = torch.utils.data.TensorDataset(X_tr, y_tr)\n",
    "valid_dataset = torch.utils.data.TensorDataset(X_val, y_val)\n",
    "test_dataset = torch.utils.data.TensorDataset(X_test, y_test)"
   ]
  },
  {
   "cell_type": "code",
   "execution_count": 109,
   "id": "35b41521",
   "metadata": {},
   "outputs": [],
   "source": [
    "from torch.utils.data import DataLoader\n",
    "\n",
    "train_loader = DataLoader(train_dataset, batch_size=2048, num_workers=1)\n",
    "valid_loader = DataLoader(valid_dataset, batch_size=2048, num_workers=1)\n"
   ]
  },
  {
   "cell_type": "code",
   "execution_count": null,
   "id": "66691e28",
   "metadata": {
    "scrolled": true
   },
   "outputs": [],
   "source": [
    "# train with both splits\n",
    "from lightning.pytorch.callbacks.early_stopping import EarlyStopping\n",
    "trainer = L.Trainer(callbacks=[EarlyStopping(monitor=\"val_loss\", mode=\"min\", patience=100)], max_epochs=1000)\n",
    "trainer.fit(model, train_loader, valid_loader, )"
   ]
  },
  {
   "cell_type": "code",
   "execution_count": null,
   "id": "e82244ce",
   "metadata": {
    "scrolled": true
   },
   "outputs": [],
   "source": [
    "best_checkpoint = trainer.checkpoint_callback.best_model_path\n",
    "print(best_checkpoint)\n",
    "model = LitAutoEncoder.load_from_checkpoint(best_checkpoint, encoder1=cell_enc, encoder2=gene_enc, eta=1e-4, gene_emb=torch.FloatTensor(adata_emb.X).cuda(), train_index=train_index)"
   ]
  },
  {
   "cell_type": "code",
   "execution_count": 37,
   "id": "b065c64f",
   "metadata": {},
   "outputs": [],
   "source": [
    "model = model.cuda()"
   ]
  },
  {
   "cell_type": "code",
   "execution_count": 38,
   "id": "b1dcbe3a",
   "metadata": {
    "scrolled": true
   },
   "outputs": [],
   "source": [
    "with torch.no_grad():\n",
    "    imputed = model.forward(X_test.cuda()).cpu()"
   ]
  },
  {
   "cell_type": "code",
   "execution_count": 42,
   "id": "3bc51925",
   "metadata": {},
   "outputs": [],
   "source": [
    "adata_imp = sc.AnnData(imputed.numpy())"
   ]
  },
  {
   "cell_type": "code",
   "execution_count": 43,
   "id": "9bafeb0d",
   "metadata": {},
   "outputs": [],
   "source": [
    "adata_test = adata_train[test_name]"
   ]
  },
  {
   "cell_type": "code",
   "execution_count": null,
   "id": "2cdbae75",
   "metadata": {},
   "outputs": [],
   "source": [
    "sc.tl.pca(adata_test)\n",
    "sc.pp.neighbors(adata_test)\n",
    "sc.tl.umap(adata_test)"
   ]
  },
  {
   "cell_type": "code",
   "execution_count": null,
   "id": "ee41aaee",
   "metadata": {},
   "outputs": [],
   "source": [
    "sc.pl.umap(adata_test, color='scClassify')"
   ]
  }
 ],
 "metadata": {
  "kernelspec": {
   "display_name": "Python 3 (ipykernel)",
   "language": "python",
   "name": "python3"
  },
  "language_info": {
   "codemirror_mode": {
    "name": "ipython",
    "version": 3
   },
   "file_extension": ".py",
   "mimetype": "text/x-python",
   "name": "python",
   "nbconvert_exporter": "python",
   "pygments_lexer": "ipython3",
   "version": "3.11.0"
  }
 },
 "nbformat": 4,
 "nbformat_minor": 5
}
