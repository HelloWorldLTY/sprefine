{
 "cells": [
  {
   "cell_type": "code",
   "execution_count": 294,
   "id": "17c0a135",
   "metadata": {},
   "outputs": [],
   "source": [
    "# import packages\n",
    "\n",
    "import spatialclock.deploy # for deploying spatial aging clocks\n",
    "import spatialclock.proximity # for running proximity effect analysis\n",
    "\n",
    "import numpy as np\n",
    "import pandas as pd\n",
    "import matplotlib.pyplot as plt\n",
    "import scanpy as sc\n",
    "import squidpy as sq\n",
    "import anndata as ad\n",
    "import os\n",
    "\n",
    "# turn off warnings\n",
    "import warnings\n",
    "warnings.filterwarnings('ignore')"
   ]
  },
  {
   "cell_type": "code",
   "execution_count": null,
   "id": "bb90749c",
   "metadata": {
    "scrolled": true
   },
   "outputs": [],
   "source": [
    "# read in data with scanpy\n",
    "\n",
    "adata = sc.read_h5ad(\"data/small_data.h5ad\")\n",
    "adata"
   ]
  },
  {
   "cell_type": "code",
   "execution_count": null,
   "id": "57b859b0",
   "metadata": {},
   "outputs": [],
   "source": [
    "# predict age with spatial aging clocks\n",
    "\n",
    "df = spatialclock.deploy.get_predictions(adata)"
   ]
  },
  {
   "cell_type": "code",
   "execution_count": null,
   "id": "08025ddb",
   "metadata": {},
   "outputs": [],
   "source": [
    "plt.hist(df[df[\"cohort\"]==\"young_control\"][\"pred_age\"], label=\"Young\", color=\"g\", alpha=0.5)\n",
    "plt.hist(df[df[\"cohort\"]==\"old_control\"][\"pred_age\"], label=\"Old\", color=\"tab:orange\", alpha=0.5)\n",
    "plt.legend(fontsize=16)\n",
    "plt.xlabel(\"Predicted Age\", fontsize=16)\n",
    "plt.ylabel(\"Cell Density\", fontsize=16)\n",
    "plt.xticks(fontsize=14)\n",
    "plt.yticks(fontsize=14)\n",
    "plt.show()"
   ]
  },
  {
   "cell_type": "code",
   "execution_count": null,
   "id": "9d96cb2c",
   "metadata": {},
   "outputs": [],
   "source": [
    "df"
   ]
  },
  {
   "cell_type": "code",
   "execution_count": null,
   "id": "aac8cc9f",
   "metadata": {},
   "outputs": [],
   "source": [
    "adata.obs"
   ]
  },
  {
   "cell_type": "code",
   "execution_count": 300,
   "id": "2670ffd8",
   "metadata": {},
   "outputs": [],
   "source": [
    "spatialclock.deploy.get_age_acceleration (adata)"
   ]
  },
  {
   "cell_type": "code",
   "execution_count": null,
   "id": "5ede9138",
   "metadata": {},
   "outputs": [],
   "source": [
    "sc.pl.embedding(adata[adata.obs.mouse_id==\"YC1\"], \"spatial\",\n",
    "                color=\"normalized_age_acceleration\", cmap=\"RdBu_r\")"
   ]
  },
  {
   "cell_type": "code",
   "execution_count": 302,
   "id": "27a981e5",
   "metadata": {},
   "outputs": [],
   "source": [
    "# Compute nearest to cell type distances\n",
    "\n",
    "celltypes = pd.unique(adata.obs.celltype).sort_values()\n",
    "\n",
    "spatialclock.proximity.nearest_distance_to_celltype(adata,\n",
    "                             celltype_list=celltypes,\n",
    "                             sub_id=\"mouse_id\")"
   ]
  },
  {
   "cell_type": "code",
   "execution_count": 303,
   "id": "cf32b9f2",
   "metadata": {},
   "outputs": [],
   "source": [
    "# get proximity effects\n",
    "cutoff = 30 # this can also be a region-specific dictionary of cutoffs\n",
    "celltypes = pd.unique(adata.obs.celltype).sort_values()\n",
    "\n",
    "adata.obs.region = 'global' # for tutorial only\n",
    "\n",
    "df = spatialclock.proximity.compute_proximity_effects(adata, cutoff, celltypes,\n",
    "                                                      min_pairs=1) # for tutorial only"
   ]
  },
  {
   "cell_type": "code",
   "execution_count": 307,
   "id": "1841e0fb",
   "metadata": {},
   "outputs": [],
   "source": [
    "df.to_csv('small_raw_proximity.csv')"
   ]
  },
  {
   "cell_type": "code",
   "execution_count": null,
   "id": "8f8e8679",
   "metadata": {
    "scrolled": true
   },
   "outputs": [],
   "source": [
    "len(df[df['p']<0.05])"
   ]
  },
  {
   "cell_type": "code",
   "execution_count": null,
   "id": "ea6af504",
   "metadata": {},
   "outputs": [],
   "source": [
    "len(df['Aging Effect'].dropna())"
   ]
  },
  {
   "cell_type": "code",
   "execution_count": null,
   "id": "70c7f536",
   "metadata": {},
   "outputs": [],
   "source": []
  },
  {
   "cell_type": "code",
   "execution_count": null,
   "id": "b70e3d76",
   "metadata": {},
   "outputs": [],
   "source": []
  },
  {
   "cell_type": "code",
   "execution_count": 308,
   "id": "0d43bae5",
   "metadata": {},
   "outputs": [],
   "source": [
    "import scanpy as sc"
   ]
  },
  {
   "cell_type": "code",
   "execution_count": 309,
   "id": "d78c955f",
   "metadata": {},
   "outputs": [],
   "source": [
    "adata_full = sc.read_h5ad(\"/home/tl688/scratch/aging_coronal.h5ad?download=1\")"
   ]
  },
  {
   "cell_type": "code",
   "execution_count": null,
   "id": "a07ba791",
   "metadata": {},
   "outputs": [],
   "source": [
    "adata_full"
   ]
  },
  {
   "cell_type": "code",
   "execution_count": 311,
   "id": "03f85be7",
   "metadata": {},
   "outputs": [],
   "source": [
    "# import packages\n",
    "\n",
    "import spatialclock.deploy # for deploying spatial aging clocks\n",
    "import spatialclock.proximity # for running proximity effect analysis\n",
    "\n",
    "import numpy as np\n",
    "import pandas as pd\n",
    "import matplotlib.pyplot as plt\n",
    "import scanpy as sc\n",
    "import squidpy as sq\n",
    "import anndata as ad\n",
    "import os\n",
    "\n",
    "# turn off warnings\n",
    "import warnings\n",
    "warnings.filterwarnings('ignore')"
   ]
  },
  {
   "cell_type": "code",
   "execution_count": null,
   "id": "b2456866",
   "metadata": {},
   "outputs": [],
   "source": [
    "# read in data with scanpy\n",
    "\n",
    "# adata = sc.read_h5ad(\"/home/tl688/scratch/adata_imputed_new.h5ad\")\n",
    "adata = sc.read_h5ad(\"/home/tl688/project/SpatialAgingClock/data/adata_imputed_new.h5ad\")\n",
    "adata"
   ]
  },
  {
   "cell_type": "code",
   "execution_count": null,
   "id": "5ff1497d",
   "metadata": {},
   "outputs": [],
   "source": [
    "adata.X"
   ]
  },
  {
   "cell_type": "code",
   "execution_count": 314,
   "id": "48b9e34b",
   "metadata": {
    "scrolled": true
   },
   "outputs": [],
   "source": [
    "adata.var_names = adata.var['add_id'].values"
   ]
  },
  {
   "cell_type": "code",
   "execution_count": 315,
   "id": "ca34eb3a",
   "metadata": {},
   "outputs": [],
   "source": [
    "# var_filter = []\n",
    "\n",
    "# for i in adata.var_names:\n",
    "#     if 'Gm' not in i:\n",
    "#         var_filter.append(i)"
   ]
  },
  {
   "cell_type": "code",
   "execution_count": 316,
   "id": "e40ccefa",
   "metadata": {},
   "outputs": [],
   "source": [
    "# adata = adata[:,var_filter]"
   ]
  },
  {
   "cell_type": "code",
   "execution_count": null,
   "id": "20588cf0",
   "metadata": {},
   "outputs": [],
   "source": [
    "adata"
   ]
  },
  {
   "cell_type": "code",
   "execution_count": 318,
   "id": "8e9dc7d5",
   "metadata": {
    "scrolled": true
   },
   "outputs": [],
   "source": [
    "# sc.pp.highly_variable_genes(adata, n_top_genes=10000)\n",
    "# adata = adata[:,adata.var['highly_variable']]"
   ]
  },
  {
   "cell_type": "code",
   "execution_count": null,
   "id": "ddc85e8e",
   "metadata": {},
   "outputs": [],
   "source": [
    "adata.var"
   ]
  },
  {
   "cell_type": "code",
   "execution_count": null,
   "id": "de38589c",
   "metadata": {
    "scrolled": true
   },
   "outputs": [],
   "source": [
    "# predict age with spatial aging clocks\n",
    "\n",
    "df_new = spatialclock.deploy.get_predictions(adata, clock_obj_name=\"lasso_cv5_nalphas20_spatialsmooth_alpha08_neigh20\",\n",
    "                    fill_missing=\"mean\",\n",
    "                    smooth=True,\n",
    "                    pseudobulk_data=False,\n",
    "                    normalize=False,\n",
    "                    standardize=False,\n",
    "                    add_in_place=True)"
   ]
  },
  {
   "cell_type": "code",
   "execution_count": null,
   "id": "92ae5358",
   "metadata": {},
   "outputs": [],
   "source": [
    "plt.hist(df_new[df_new[\"cohort\"]==\"young_control\"][\"pred_age\"], label=\"Young\", color=\"g\", alpha=0.5)\n",
    "plt.hist(df_new[df_new[\"cohort\"]==\"old_control\"][\"pred_age\"], label=\"Old\", color=\"tab:orange\", alpha=0.5)\n",
    "plt.legend(fontsize=16)\n",
    "plt.xlabel(\"Predicted Age\", fontsize=16)\n",
    "plt.ylabel(\"Cell Density\", fontsize=16)\n",
    "plt.xticks(fontsize=14)\n",
    "plt.yticks(fontsize=14)\n",
    "plt.show()"
   ]
  },
  {
   "cell_type": "code",
   "execution_count": null,
   "id": "993acca9",
   "metadata": {},
   "outputs": [],
   "source": [
    "df_new"
   ]
  },
  {
   "cell_type": "code",
   "execution_count": null,
   "id": "a7af64dd",
   "metadata": {},
   "outputs": [],
   "source": []
  },
  {
   "cell_type": "code",
   "execution_count": null,
   "id": "4a1e5881",
   "metadata": {},
   "outputs": [],
   "source": []
  },
  {
   "cell_type": "code",
   "execution_count": null,
   "id": "c89530b8",
   "metadata": {},
   "outputs": [],
   "source": [
    "plt.hist(df[df[\"cohort\"]==\"young_control\"][\"pred_age\"], label=\"Young\", color=\"g\", alpha=0.5)\n",
    "plt.hist(df[df[\"cohort\"]==\"old_control\"][\"pred_age\"], label=\"Old\", color=\"tab:orange\", alpha=0.5)\n",
    "plt.legend(fontsize=16)\n",
    "plt.xlabel(\"Predicted Age\", fontsize=16)\n",
    "plt.ylabel(\"Cell Density\", fontsize=16)\n",
    "plt.xticks(fontsize=14)\n",
    "plt.yticks(fontsize=14)\n",
    "plt.show()"
   ]
  },
  {
   "cell_type": "code",
   "execution_count": null,
   "id": "1165e362",
   "metadata": {},
   "outputs": [],
   "source": [
    "df_new"
   ]
  },
  {
   "cell_type": "code",
   "execution_count": null,
   "id": "7129d144",
   "metadata": {},
   "outputs": [],
   "source": [
    "adata.obs"
   ]
  },
  {
   "cell_type": "code",
   "execution_count": 325,
   "id": "3097b2cf",
   "metadata": {},
   "outputs": [],
   "source": [
    "spatialclock.deploy.get_age_acceleration (adata)"
   ]
  },
  {
   "cell_type": "code",
   "execution_count": null,
   "id": "1dcfde41",
   "metadata": {},
   "outputs": [],
   "source": [
    "sc.pl.embedding(adata[adata.obs.mouse_id==\"YC1\"], \"spatial\",\n",
    "                color=\"normalized_age_acceleration\", cmap=\"RdBu_r\")"
   ]
  },
  {
   "cell_type": "code",
   "execution_count": 327,
   "id": "ff96b541",
   "metadata": {},
   "outputs": [],
   "source": [
    "# Compute nearest to cell type distances\n",
    "\n",
    "celltypes = pd.unique(adata.obs.celltype).sort_values()\n",
    "\n",
    "spatialclock.proximity.nearest_distance_to_celltype(adata,\n",
    "                             celltype_list=celltypes,\n",
    "                             sub_id=\"mouse_id\")"
   ]
  },
  {
   "cell_type": "code",
   "execution_count": 328,
   "id": "e2243e4f",
   "metadata": {},
   "outputs": [],
   "source": [
    "# get proximity effects\n",
    "cutoff = 30 # this can also be a region-specific dictionary of cutoffs\n",
    "celltypes = pd.unique(adata.obs.celltype).sort_values()\n",
    "\n",
    "adata.obs.region = 'global' # for tutorial only\n",
    "\n",
    "df = spatialclock.proximity.compute_proximity_effects(adata, cutoff, celltypes,\n",
    "                                                      min_pairs=1) # for tutorial only"
   ]
  },
  {
   "cell_type": "code",
   "execution_count": 331,
   "id": "b670c7d4",
   "metadata": {},
   "outputs": [],
   "source": [
    "df.to_csv(\"small_sprefine_data.csv\")"
   ]
  },
  {
   "cell_type": "code",
   "execution_count": null,
   "id": "915dc399",
   "metadata": {},
   "outputs": [],
   "source": [
    "df[df['p']<0.05]"
   ]
  },
  {
   "cell_type": "code",
   "execution_count": null,
   "id": "a36038ad",
   "metadata": {},
   "outputs": [],
   "source": [
    "adata"
   ]
  },
  {
   "cell_type": "code",
   "execution_count": 352,
   "id": "6c546969",
   "metadata": {
    "scrolled": true
   },
   "outputs": [],
   "source": [
    "sc.tl.rank_genes_groups(adata, groupby='cohort')"
   ]
  },
  {
   "cell_type": "code",
   "execution_count": null,
   "id": "16880dea",
   "metadata": {},
   "outputs": [],
   "source": [
    "sc.pl.rank_genes_groups(adata, groupby='cohort')"
   ]
  },
  {
   "cell_type": "code",
   "execution_count": 349,
   "id": "11533ec9",
   "metadata": {},
   "outputs": [],
   "source": [
    "# for i in adata.uns['rank_genes_groups']['names']['old_control']:\n",
    "#     if 'Gm' not in i:\n",
    "#         print(i)"
   ]
  },
  {
   "cell_type": "code",
   "execution_count": null,
   "id": "e8b910bc",
   "metadata": {},
   "outputs": [],
   "source": [
    "sc.pl.embedding(adata, \"spatial\",\n",
    "                color=\"celltype\", cmap=\"RdBu_r\")"
   ]
  },
  {
   "cell_type": "code",
   "execution_count": null,
   "id": "a339bb0f",
   "metadata": {},
   "outputs": [],
   "source": [
    "sc.pl.embedding(adata, \"spatial\",\n",
    "                color=\"cohort\", cmap=\"RdBu_r\")"
   ]
  },
  {
   "cell_type": "code",
   "execution_count": null,
   "id": "ef424de8",
   "metadata": {},
   "outputs": [],
   "source": [
    "sc.pl.embedding(adata, \"spatial\",\n",
    "                color=\"AC124742.1\", cmap=\"RdBu_r\")"
   ]
  },
  {
   "cell_type": "code",
   "execution_count": null,
   "id": "cd039b25",
   "metadata": {},
   "outputs": [],
   "source": [
    "sc.pl.embedding(adata, \"spatial\",\n",
    "                color=\"Insc\", cmap=\"RdBu_r\")"
   ]
  },
  {
   "cell_type": "code",
   "execution_count": null,
   "id": "ede93b4a",
   "metadata": {},
   "outputs": [],
   "source": [
    "# normalized_age_acceleration\n",
    "sc.pl.embedding(adata, \"spatial\",\n",
    "                color=\"normalized_age_acceleration\", cmap=\"RdBu_r\")"
   ]
  },
  {
   "cell_type": "code",
   "execution_count": null,
   "id": "ff530fa8",
   "metadata": {},
   "outputs": [],
   "source": []
  },
  {
   "cell_type": "code",
   "execution_count": null,
   "id": "c48b8dcb",
   "metadata": {},
   "outputs": [],
   "source": [
    "len(df['Aging Effect'].dropna())"
   ]
  },
  {
   "cell_type": "code",
   "execution_count": 247,
   "id": "57603497",
   "metadata": {},
   "outputs": [],
   "source": [
    "import scanpy as sc"
   ]
  },
  {
   "cell_type": "code",
   "execution_count": null,
   "id": "05525b43",
   "metadata": {},
   "outputs": [],
   "source": [
    "df"
   ]
  },
  {
   "cell_type": "code",
   "execution_count": 286,
   "id": "f01d197d",
   "metadata": {},
   "outputs": [],
   "source": [
    "df_young = df_new[df_new['cohort'] == 'young_control']\n",
    "df_old = df_new[df_new['cohort'] == 'old_control']"
   ]
  },
  {
   "cell_type": "code",
   "execution_count": null,
   "id": "25f51333",
   "metadata": {},
   "outputs": [],
   "source": [
    "df_young['pred_age']"
   ]
  },
  {
   "cell_type": "code",
   "execution_count": null,
   "id": "73561289",
   "metadata": {},
   "outputs": [],
   "source": [
    "df_old['pred_age']"
   ]
  },
  {
   "cell_type": "code",
   "execution_count": 290,
   "id": "15dd3792",
   "metadata": {},
   "outputs": [],
   "source": [
    "import scipy.stats"
   ]
  },
  {
   "cell_type": "code",
   "execution_count": null,
   "id": "13d93f1a",
   "metadata": {},
   "outputs": [],
   "source": [
    "scipy.stats.mannwhitneyu(df_young['pred_age'], df_old['pred_age'])"
   ]
  },
  {
   "cell_type": "code",
   "execution_count": 355,
   "id": "81ed4be9",
   "metadata": {},
   "outputs": [],
   "source": [
    "df_raw = pd.read_csv(\"./small_raw_proximity.csv\")\n",
    "df_spr = pd.read_csv(\"./small_sprefine_data.csv\")"
   ]
  },
  {
   "cell_type": "code",
   "execution_count": 359,
   "id": "1232349f",
   "metadata": {
    "scrolled": true
   },
   "outputs": [],
   "source": [
    "df_raw = df_raw[df_raw['p']<0.05]"
   ]
  },
  {
   "cell_type": "code",
   "execution_count": 360,
   "id": "93f03b25",
   "metadata": {},
   "outputs": [],
   "source": [
    "df_spr = df_spr[df_spr['p']<0.05]"
   ]
  },
  {
   "cell_type": "code",
   "execution_count": 375,
   "id": "b5fdac3a",
   "metadata": {},
   "outputs": [],
   "source": [
    "set_raw = [i +'_'+ j for i,j in zip(df_raw['Near Cell'], df_raw['AgeAccel Cell'])]"
   ]
  },
  {
   "cell_type": "code",
   "execution_count": 376,
   "id": "4990d040",
   "metadata": {
    "scrolled": true
   },
   "outputs": [],
   "source": [
    "set_new = [i +'_'+ j for i,j in zip(df_spr['Near Cell'], df_spr['AgeAccel Cell'])]"
   ]
  },
  {
   "cell_type": "code",
   "execution_count": null,
   "id": "d0f4be8a",
   "metadata": {},
   "outputs": [],
   "source": [
    "sc.pl.embedding(adata, \"spatial\",\n",
    "                color=\"celltype\", cmap=\"RdBu_r\")"
   ]
  },
  {
   "cell_type": "code",
   "execution_count": null,
   "id": "9f86bf64",
   "metadata": {},
   "outputs": [],
   "source": [
    "adata.obs['region']"
   ]
  },
  {
   "cell_type": "code",
   "execution_count": null,
   "id": "55d9893a",
   "metadata": {},
   "outputs": [],
   "source": [
    "set(set_raw) - set(set_new)"
   ]
  },
  {
   "cell_type": "code",
   "execution_count": null,
   "id": "5edd8151",
   "metadata": {},
   "outputs": [],
   "source": [
    "set(set_new) - set(set_raw)"
   ]
  },
  {
   "cell_type": "code",
   "execution_count": null,
   "id": "26da1881",
   "metadata": {
    "scrolled": true
   },
   "outputs": [],
   "source": [
    "df_raw['Aging Effect']"
   ]
  },
  {
   "cell_type": "code",
   "execution_count": null,
   "id": "28fbb1e7",
   "metadata": {},
   "outputs": [],
   "source": [
    "df_spr['Aging Effect']"
   ]
  },
  {
   "cell_type": "code",
   "execution_count": null,
   "id": "82650005",
   "metadata": {},
   "outputs": [],
   "source": [
    "plt.hist(df_raw[\"Aging Effect\"], label=\"Raw\", color=\"g\", alpha=0.5)\n",
    "plt.hist(df_spr[\"Aging Effect\"], label=\"spRefine\", color=\"tab:orange\", alpha=0.5)\n",
    "plt.legend(fontsize=16)\n",
    "plt.xlabel(\"Ageing effect\", fontsize=16)\n",
    "plt.ylabel(\"Path Density\", fontsize=16)\n",
    "plt.xticks(fontsize=14)\n",
    "plt.yticks(fontsize=14)\n",
    "plt.show()"
   ]
  },
  {
   "cell_type": "code",
   "execution_count": 3,
   "id": "bfe1fb23-0648-4508-8b3f-e8c423c55e85",
   "metadata": {},
   "outputs": [],
   "source": [
    "# !pip install seaborn"
   ]
  },
  {
   "cell_type": "code",
   "execution_count": null,
   "id": "9a4461c9",
   "metadata": {},
   "outputs": [],
   "source": [
    "import numpy as np\n",
    "import seaborn as sns\n",
    "import matplotlib.pyplot as plt\n",
    "\n",
    "# Example data (20 rows × 10 columns).\n",
    "# Replace this with your actual data, for example from a pandas DataFrame.\n",
    "np.random.seed(0)\n",
    "data = np.random.normal(loc=0.0, scale=0.2, size=(20, 10))\n",
    "\n",
    "# Provide your row (effector) and column (target) labels\n",
    "effector_cell_types = [\n",
    "    \"Neuron-excitatory\", \"Neuron-inhibitory\", \"Neuron-MSN\",\n",
    "    \"Astrocyte\", \"Microglia\", \"Oligodendrocyte\", \"OPC\",\n",
    "    \"Endothelial\", \"Pericyte\", \"VSMC\", \"VLMC\", \"Ependymal\",\n",
    "    \"Neuroblast\", \"NSC\", \"Macrophage\", \"Neutrophil\",\n",
    "    \"T cell\", \"B cell\", \"Other cell 1\", \"Other cell 2\"\n",
    "]\n",
    "target_cell_types = [\n",
    "    \"Neuron-excitatory\", \"Neuron-inhibitory\", \"Neuron-MSN\",\n",
    "    \"Astrocyte\", \"Microglia\", \"Oligodendrocyte\", \"OPC\",\n",
    "    \"Endothelial\", \"Pericyte\", \"VSMC\"\n",
    "]\n",
    "\n",
    "# Create a diverging palette so that negative values show as blue,\n",
    "# positive values as red, and zero is at the center.\n",
    "cmap = sns.diverging_palette(220, 10, as_cmap=True)\n",
    "\n",
    "# Plot the heatmap\n",
    "plt.figure(figsize=(7, 8))  # Adjust figure size as needed\n",
    "ax = sns.heatmap(\n",
    "    data,\n",
    "    cmap=cmap,\n",
    "    center=0,          # Make 0 the center of the color scale\n",
    "    xticklabels=target_cell_types,\n",
    "    yticklabels=effector_cell_types,\n",
    "    square=True,       # Make cells square-shaped\n",
    "    cbar_kws={\"shrink\": 0.5, \"label\": \"Proximity effect\"}\n",
    ")\n",
    "\n",
    "# Rotate tick labels if needed\n",
    "plt.xticks(rotation=90)\n",
    "plt.yticks(rotation=0)\n",
    "\n",
    "# Suppose we want to overlay “X” on certain cells.\n",
    "# Let's say we put an 'X' in these (row, col) positions\n",
    "x_positions = [(13, 3), (13, 4), (16, 1), (16, 2)]  # Example coordinates\n",
    "for (row, col) in x_positions:\n",
    "    ax.text(\n",
    "        col + 0.5,          # x position\n",
    "        row + 0.5,          # y position\n",
    "        \"X\",                # the text\n",
    "        ha=\"center\", va=\"center\",\n",
    "        color=\"black\",      # text color\n",
    "        fontsize=10, \n",
    "        fontweight=\"bold\"\n",
    "    )\n",
    "\n",
    "plt.title(\"Cell Proximity Effects Heatmap\")\n",
    "plt.tight_layout()\n",
    "plt.show()\n"
   ]
  },
  {
   "cell_type": "code",
   "execution_count": 6,
   "id": "07c3ab0b-c0ad-4e57-860b-e6fe864994b9",
   "metadata": {},
   "outputs": [],
   "source": [
    "import pandas as pd"
   ]
  },
  {
   "cell_type": "code",
   "execution_count": 9,
   "id": "ec2ac7cc-538a-4437-b86a-6f745db284f1",
   "metadata": {},
   "outputs": [],
   "source": [
    "df_spr = pd.read_csv(\"./small_sprefine_data.csv\", index_col=0)"
   ]
  },
  {
   "cell_type": "code",
   "execution_count": null,
   "id": "f1bbb3f4-1056-47f9-8782-c8f2fcd5d7ab",
   "metadata": {},
   "outputs": [],
   "source": [
    "df_spr"
   ]
  },
  {
   "cell_type": "code",
   "execution_count": 12,
   "id": "35cb48fc-fbce-4d58-b839-2be1919634e2",
   "metadata": {},
   "outputs": [],
   "source": [
    "df_wide = df_spr.pivot(\n",
    "    index=\"Near Cell\", \n",
    "    columns=\"AgeAccel Cell\", \n",
    "    values=\"Aging Effect\"\n",
    ")\n"
   ]
  },
  {
   "cell_type": "code",
   "execution_count": null,
   "id": "8a1b036b-4aa0-4726-9f53-e2a76cfbb738",
   "metadata": {},
   "outputs": [],
   "source": [
    "df_spr"
   ]
  },
  {
   "cell_type": "code",
   "execution_count": 19,
   "id": "8a29391e-aae5-4db6-8314-f17c88472084",
   "metadata": {},
   "outputs": [],
   "source": [
    "df_wide_p = df_spr.pivot(\n",
    "    index=\"Near Cell\", \n",
    "    columns=\"AgeAccel Cell\", \n",
    "    values=\"p\"\n",
    ")\n"
   ]
  },
  {
   "cell_type": "code",
   "execution_count": 22,
   "id": "e854df9f-eaf2-496d-b811-48b48caada28",
   "metadata": {},
   "outputs": [],
   "source": [
    "index_list = np.where(df_wide_p.values <0.05)"
   ]
  },
  {
   "cell_type": "code",
   "execution_count": null,
   "id": "f32ee78f-081d-4d46-a950-3e961a206591",
   "metadata": {},
   "outputs": [],
   "source": [
    "index_list "
   ]
  },
  {
   "cell_type": "code",
   "execution_count": null,
   "id": "f94b07ff-b9c3-4947-a1cf-b1d75530acaf",
   "metadata": {},
   "outputs": [],
   "source": []
  },
  {
   "cell_type": "code",
   "execution_count": null,
   "id": "d1edc29e-365c-4503-bb3c-fda3046584e2",
   "metadata": {},
   "outputs": [],
   "source": [
    "# Create a diverging palette so that negative values show as blue,\n",
    "# positive values as red, and zero is at the center.\n",
    "cmap = sns.diverging_palette(220, 10, as_cmap=True)\n",
    "\n",
    "# Plot the heatmap\n",
    "plt.figure(figsize=(8, 6))  # Adjust figure size as needed\n",
    "ax = sns.heatmap(\n",
    "    df_wide.values,\n",
    "    cmap=cmap,\n",
    "    center=0,          # Make 0 the center of the color scale\n",
    "    xticklabels=df_wide.index,\n",
    "    yticklabels=df_wide.columns,\n",
    "    square=True,       # Make cells square-shaped\n",
    "    cbar_kws={\"shrink\": 0.5, \"label\": \"Proximity effect\"}\n",
    ")\n",
    "\n",
    "# Rotate tick labels if needed\n",
    "plt.xticks(rotation=90)\n",
    "plt.yticks(rotation=0)\n",
    "\n",
    "# Suppose we want to overlay “X” on certain cells.\n",
    "# Let's say we put an 'X' in these (row, col) positions\n",
    "# x_positions = [(13, 3), (13, 4), (16, 1), (16, 2)]  # Example coordinates\n",
    "x_positions = [(i,j) for i,j in zip(index_list[0], index_list[1])]\n",
    "for (row, col) in x_positions:\n",
    "    ax.text(\n",
    "        col + 0.5,          # x position\n",
    "        row + 0.5,          # y position\n",
    "        \"X\",                # the text\n",
    "        ha=\"center\", va=\"center\",\n",
    "        color=\"black\",      # text color\n",
    "        fontsize=10, \n",
    "        fontweight=\"bold\"\n",
    "    )\n",
    "\n",
    "plt.title(\"Cell Proximity Effects Heatmap\")\n",
    "plt.tight_layout()\n",
    "plt.show()"
   ]
  }
 ],
 "metadata": {
  "kernelspec": {
   "display_name": "Python 3 (ipykernel)",
   "language": "python",
   "name": "python3"
  },
  "language_info": {
   "codemirror_mode": {
    "name": "ipython",
    "version": 3
   },
   "file_extension": ".py",
   "mimetype": "text/x-python",
   "name": "python",
   "nbconvert_exporter": "python",
   "pygments_lexer": "ipython3",
   "version": "3.10.0"
  }
 },
 "nbformat": 4,
 "nbformat_minor": 5
}
