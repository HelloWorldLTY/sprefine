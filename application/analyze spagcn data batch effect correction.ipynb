{
 "cells": [
  {
   "cell_type": "code",
   "execution_count": 1,
   "id": "a250f200",
   "metadata": {},
   "outputs": [],
   "source": [
    "import scanpy as sc\n",
    "import squidpy as sq"
   ]
  },
  {
   "cell_type": "code",
   "execution_count": 2,
   "id": "33a48e0e",
   "metadata": {},
   "outputs": [],
   "source": [
    "import scanpy as sc\n",
    "import pandas as pd\n",
    "import lightning"
   ]
  },
  {
   "cell_type": "code",
   "execution_count": 8,
   "id": "2cf0446a",
   "metadata": {},
   "outputs": [],
   "source": [
    "adata_imp = sc.read_h5ad(\"/home/tl688/project/large_scale_imputation/visium_all_imputed.h5ad\")"
   ]
  },
  {
   "cell_type": "code",
   "execution_count": 5,
   "id": "8e3ed735",
   "metadata": {},
   "outputs": [],
   "source": [
    "adata_imp = sc.read_h5ad(\"/home/tl688/project/large_scale_imputation/visium_all_imputed.h5ad\")"
   ]
  },
  {
   "cell_type": "code",
   "execution_count": null,
   "id": "2ec8635e",
   "metadata": {},
   "outputs": [],
   "source": [
    "sc.pp.highly_variable_genes(adata_imp, n_top_genes=2000)\n",
    "adata_imp = adata_imp[:, adata_imp.var['highly_variable']]"
   ]
  },
  {
   "cell_type": "code",
   "execution_count": null,
   "id": "1fc01add",
   "metadata": {},
   "outputs": [],
   "source": [
    "sc.tl.pca(adata_imp)\n",
    "sc.pp.neighbors(adata_imp)\n",
    "sc.tl.umap(adata_imp)"
   ]
  },
  {
   "cell_type": "code",
   "execution_count": 10,
   "id": "57835f52",
   "metadata": {},
   "outputs": [],
   "source": [
    "sc.pp.scale(adata_imp)\n",
    "# sc.tl.pca(adata_imp, n_comps=200)\n",
    "from sklearn.decomposition import PCA  # sklearn PCA is used because PCA in scanpy is not stable.\n",
    "adata_X = PCA(n_components=200, random_state=42).fit_transform(adata_imp.X)\n",
    "adata_imp.obsm['X_pca'] = adata_X  "
   ]
  },
  {
   "cell_type": "code",
   "execution_count": null,
   "id": "cad28a55",
   "metadata": {},
   "outputs": [],
   "source": [
    "sc.external.pp.harmony_integrate(adata_imp, key='sample_id')"
   ]
  }
 ],
 "metadata": {
  "kernelspec": {
   "display_name": "Python 3 (ipykernel)",
   "language": "python",
   "name": "python3"
  },
  "language_info": {
   "codemirror_mode": {
    "name": "ipython",
    "version": 3
   },
   "file_extension": ".py",
   "mimetype": "text/x-python",
   "name": "python",
   "nbconvert_exporter": "python",
   "pygments_lexer": "ipython3",
   "version": "3.11.0"
  }
 },
 "nbformat": 4,
 "nbformat_minor": 5
}
